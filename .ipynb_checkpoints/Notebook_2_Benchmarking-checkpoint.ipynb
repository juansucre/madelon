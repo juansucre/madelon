{
 "cells": [
  {
   "cell_type": "markdown",
   "metadata": {},
   "source": [
    "# Notebook 2 - Benchmarking"
   ]
  },
  {
   "cell_type": "code",
   "execution_count": 9,
   "metadata": {
    "collapsed": true
   },
   "outputs": [],
   "source": [
    "from sklearn.pipeline import make_pipeline\n",
    "from sklearn.linear_model import LogisticRegression\n",
    "from sklearn.tree import DecisionTreeClassifier\n",
    "from sklearn.neighbors import KNeighborsClassifier\n",
    "from sklearn.model_selection import train_test_split\n",
    "from sklearn.preprocessing import StandardScaler\n",
    "from sklearn.svm import SVC\n",
    "import pandas as pd\n",
    "import numpy as np"
   ]
  },
  {
   "cell_type": "code",
   "execution_count": 3,
   "metadata": {
    "collapsed": true
   },
   "outputs": [],
   "source": [
    "import pickle\n",
    "from sklearn.externals import joblib"
   ]
  },
  {
   "cell_type": "code",
   "execution_count": 4,
   "metadata": {
    "collapsed": true
   },
   "outputs": [],
   "source": [
    "uci_madelon = joblib.load('./pickles/uci_madelonALL.pkl')"
   ]
  },
  {
   "cell_type": "code",
   "execution_count": 5,
   "metadata": {},
   "outputs": [
    {
     "data": {
      "text/plain": [
       "(2000, 501)"
      ]
     },
     "execution_count": 5,
     "metadata": {},
     "output_type": "execute_result"
    }
   ],
   "source": [
    "uci_madelon.shape"
   ]
  },
  {
   "cell_type": "code",
   "execution_count": 6,
   "metadata": {
    "collapsed": true
   },
   "outputs": [],
   "source": [
    "X = uci_madelon.drop(['target'], axis = 1)\n",
    "y = uci_madelon['target']"
   ]
  },
  {
   "cell_type": "code",
   "execution_count": 7,
   "metadata": {
    "collapsed": true
   },
   "outputs": [],
   "source": [
    "X_train_1, X_test_1, y_train_1, y_test_1 = train_test_split(X, y, test_size = 0.33)"
   ]
  },
  {
   "cell_type": "markdown",
   "metadata": {},
   "source": [
    "## Naive Models"
   ]
  },
  {
   "cell_type": "code",
   "execution_count": 10,
   "metadata": {
    "collapsed": true
   },
   "outputs": [],
   "source": [
    "logr_sc = make_pipeline(StandardScaler(),\n",
    "                        LogisticRegression(C=1e10))\n",
    "\n",
    "dectree_sc = make_pipeline(StandardScaler(),\n",
    "                           DecisionTreeClassifier())\n",
    "\n",
    "knc_sc = make_pipeline(StandardScaler(),\n",
    "                       KNeighborsClassifier())\n",
    "\n",
    "svc_sc = make_pipeline(StandardScaler(),\n",
    "                       SVC(C=1e10))"
   ]
  },
  {
   "cell_type": "markdown",
   "metadata": {},
   "source": [
    "## Benchmark Results"
   ]
  },
  {
   "cell_type": "markdown",
   "metadata": {},
   "source": [
    "### UCI Madelon"
   ]
  },
  {
   "cell_type": "markdown",
   "metadata": {},
   "source": [
    "These benchmark models are run on the entire UCI Madelon set; 2,000 rows by 501 columns."
   ]
  },
  {
   "cell_type": "code",
   "execution_count": 12,
   "metadata": {
    "collapsed": true
   },
   "outputs": [],
   "source": [
    "logr = logr_sc.fit(X_train_1, y_train_1)\n",
    "dectree = dectree_sc.fit(X_train_1, y_train_1)\n",
    "knc = knc_sc.fit(X_train_1, y_train_1)\n",
    "svc = svc_sc.fit(X_train_1, y_train_1)"
   ]
  },
  {
   "cell_type": "code",
   "execution_count": 13,
   "metadata": {
    "collapsed": true
   },
   "outputs": [],
   "source": [
    "logr_train_score = logr.score(X_train_1, y_train_1)\n",
    "logr_test_score  = logr.score(X_test_1, y_test_1)\n",
    "\n",
    "dectree_train_score = dectree.score(X_train_1, y_train_1)\n",
    "dectree_test_score  = dectree.score(X_test_1, y_test_1)\n",
    "\n",
    "knc_train_score = knc.score(X_train_1, y_train_1)\n",
    "knc_test_score  = knc.score(X_test_1, y_test_1)\n",
    "\n",
    "svc_train_score = svc.score(X_train_1, y_train_1)\n",
    "svc_test_score  = svc.score(X_test_1, y_test_1)"
   ]
  },
  {
   "cell_type": "code",
   "execution_count": 30,
   "metadata": {
    "collapsed": true
   },
   "outputs": [],
   "source": [
    "results = []\n",
    "\n",
    "results.append({'model': 'LogisticRegression',\n",
    "                'dataset' : 'train',\n",
    "                'preprocessing': 'scaled',\n",
    "                'score': logr_train_score})\n",
    "\n",
    "results.append({'model': 'LogisticRegression',\n",
    "                'dataset' : 'test',\n",
    "                'preprocessing': 'scaled',\n",
    "                'score': logr_test_score})\n",
    "\n",
    "results.append({'model': 'DecisionTreeClassifier',\n",
    "                'dataset' : 'train',\n",
    "                'preprocessing': 'scaled',\n",
    "                'score': dectree_train_score})\n",
    "\n",
    "results.append({'model': 'DecisionTreeClassifier',\n",
    "                'dataset' : 'test',\n",
    "                'preprocessing': 'scaled',\n",
    "                'score': dectree_test_score})\n",
    "\n",
    "results.append({'model': 'KNeighborsClassifier',\n",
    "                'dataset' : 'train',\n",
    "                'preprocessing': 'scaled',\n",
    "                'score': knc_train_score})\n",
    "\n",
    "results.append({'model': 'KNeighborsClassifier',\n",
    "                'dataset' : 'test',\n",
    "                'preprocessing': 'scaled',\n",
    "                'score': knc_test_score})\n",
    "\n",
    "results.append({'model': 'SVC',\n",
    "                'dataset' : 'train',\n",
    "                'preprocessing': 'scaled',\n",
    "                'score': svc_train_score})\n",
    "\n",
    "results.append({'model': 'SVC',\n",
    "                'dataset' : 'test',\n",
    "                'preprocessing': 'scaled',\n",
    "                'score': svc_test_score})"
   ]
  },
  {
   "cell_type": "code",
   "execution_count": 31,
   "metadata": {},
   "outputs": [
    {
     "data": {
      "text/html": [
       "<div>\n",
       "<table border=\"1\" class=\"dataframe\">\n",
       "  <thead>\n",
       "    <tr style=\"text-align: right;\">\n",
       "      <th></th>\n",
       "      <th>dataset</th>\n",
       "      <th>model</th>\n",
       "      <th>preprocessing</th>\n",
       "      <th>score</th>\n",
       "    </tr>\n",
       "  </thead>\n",
       "  <tbody>\n",
       "    <tr>\n",
       "      <th>0</th>\n",
       "      <td>train</td>\n",
       "      <td>LogisticRegression</td>\n",
       "      <td>scaled</td>\n",
       "      <td>0.815672</td>\n",
       "    </tr>\n",
       "    <tr>\n",
       "      <th>1</th>\n",
       "      <td>test</td>\n",
       "      <td>LogisticRegression</td>\n",
       "      <td>scaled</td>\n",
       "      <td>0.525758</td>\n",
       "    </tr>\n",
       "    <tr>\n",
       "      <th>2</th>\n",
       "      <td>train</td>\n",
       "      <td>DecisionTreeClassifier</td>\n",
       "      <td>scaled</td>\n",
       "      <td>1.000000</td>\n",
       "    </tr>\n",
       "    <tr>\n",
       "      <th>3</th>\n",
       "      <td>test</td>\n",
       "      <td>DecisionTreeClassifier</td>\n",
       "      <td>scaled</td>\n",
       "      <td>0.715152</td>\n",
       "    </tr>\n",
       "    <tr>\n",
       "      <th>4</th>\n",
       "      <td>train</td>\n",
       "      <td>KNeighborsClassifier</td>\n",
       "      <td>scaled</td>\n",
       "      <td>0.723881</td>\n",
       "    </tr>\n",
       "    <tr>\n",
       "      <th>5</th>\n",
       "      <td>test</td>\n",
       "      <td>KNeighborsClassifier</td>\n",
       "      <td>scaled</td>\n",
       "      <td>0.550000</td>\n",
       "    </tr>\n",
       "    <tr>\n",
       "      <th>6</th>\n",
       "      <td>train</td>\n",
       "      <td>SVC</td>\n",
       "      <td>scaled</td>\n",
       "      <td>1.000000</td>\n",
       "    </tr>\n",
       "    <tr>\n",
       "      <th>7</th>\n",
       "      <td>test</td>\n",
       "      <td>SVC</td>\n",
       "      <td>scaled</td>\n",
       "      <td>0.545455</td>\n",
       "    </tr>\n",
       "  </tbody>\n",
       "</table>\n",
       "</div>"
      ],
      "text/plain": [
       "  dataset                   model preprocessing     score\n",
       "0   train      LogisticRegression        scaled  0.815672\n",
       "1    test      LogisticRegression        scaled  0.525758\n",
       "2   train  DecisionTreeClassifier        scaled  1.000000\n",
       "3    test  DecisionTreeClassifier        scaled  0.715152\n",
       "4   train    KNeighborsClassifier        scaled  0.723881\n",
       "5    test    KNeighborsClassifier        scaled  0.550000\n",
       "6   train                     SVC        scaled  1.000000\n",
       "7    test                     SVC        scaled  0.545455"
      ]
     },
     "execution_count": 31,
     "metadata": {},
     "output_type": "execute_result"
    }
   ],
   "source": [
    "uci_madelon_benchmark_df = pd.DataFrame(results)\n",
    "uci_madelon_benchmark_df"
   ]
  },
  {
   "cell_type": "markdown",
   "metadata": {},
   "source": [
    "### Josh's Madelon"
   ]
  },
  {
   "cell_type": "markdown",
   "metadata": {},
   "source": [
    "**The same benchmark models as above are run on a random sample set of 2,000 rows from Josh's Madelon set.**\n",
    "\n",
    "Shape size: `(2000, 1002)`"
   ]
  },
  {
   "cell_type": "code",
   "execution_count": 16,
   "metadata": {
    "collapsed": true
   },
   "outputs": [],
   "source": [
    "j_madelon_test = joblib.load('./pickles/j_madelon_test.pkl')"
   ]
  },
  {
   "cell_type": "code",
   "execution_count": 17,
   "metadata": {},
   "outputs": [
    {
     "data": {
      "text/plain": [
       "(2000, 1002)"
      ]
     },
     "execution_count": 17,
     "metadata": {},
     "output_type": "execute_result"
    }
   ],
   "source": [
    "j_madelon_test.shape"
   ]
  },
  {
   "cell_type": "code",
   "execution_count": 18,
   "metadata": {
    "collapsed": true
   },
   "outputs": [],
   "source": [
    "Xj = j_madelon_test.drop(['_id', 'target'], axis = 1)\n",
    "yj = j_madelon_test['target']"
   ]
  },
  {
   "cell_type": "code",
   "execution_count": 19,
   "metadata": {
    "collapsed": true
   },
   "outputs": [],
   "source": [
    "X_train_2, X_test_2, y_train_2, y_test_2 = train_test_split(Xj, yj, test_size = 0.33)"
   ]
  },
  {
   "cell_type": "code",
   "execution_count": 20,
   "metadata": {
    "collapsed": true
   },
   "outputs": [],
   "source": [
    "logr_j    = logr_sc.fit(X_train_2, y_train_2)\n",
    "dectree_j = dectree_sc.fit(X_train_2, y_train_2)\n",
    "knc_j     = knc_sc.fit(X_train_2, y_train_2)\n",
    "svc_j     = svc_sc.fit(X_train_2, y_train_2)"
   ]
  },
  {
   "cell_type": "code",
   "execution_count": 21,
   "metadata": {
    "collapsed": true
   },
   "outputs": [],
   "source": [
    "logr_train_score_j = logr.score(X_train_2, y_train_2)\n",
    "logr_test_score_j  = logr.score(X_test_2, y_test_2)\n",
    "\n",
    "dectree_train_score_j = dectree.score(X_train_2, y_train_2)\n",
    "dectree_test_score_j  = dectree.score(X_test_2, y_test_2)\n",
    "\n",
    "knc_train_score_j = knc.score(X_train_2, y_train_2)\n",
    "knc_test_score_j  = knc.score(X_test_2, y_test_2)\n",
    "\n",
    "svc_train_score_j = svc.score(X_train_2, y_train_2)\n",
    "svc_test_score_j  = svc.score(X_test_2, y_test_2)"
   ]
  },
  {
   "cell_type": "code",
   "execution_count": 24,
   "metadata": {
    "collapsed": true
   },
   "outputs": [],
   "source": [
    "results_j = []\n",
    "\n",
    "results_j.append({'model': 'LogisticRegression',\n",
    "                  'dataset' : 'train',\n",
    "                  'preprocessing': 'scaled',\n",
    "                  'score': logr_train_score_j})\n",
    "\n",
    "results_j.append({'model': 'LogisticRegression',\n",
    "                  'dataset' : 'test',\n",
    "                  'preprocessing': 'scaled',\n",
    "                  'score': logr_test_score_j})\n",
    "\n",
    "results_j.append({'model': 'DecisionTreeClassifier',\n",
    "                  'dataset' : 'train',\n",
    "                  'preprocessing': 'scaled',\n",
    "                  'score': dectree_train_score_j})\n",
    "\n",
    "results_j.append({'model': 'DecisionTreeClassifier',\n",
    "                  'dataset' : 'test',\n",
    "                  'preprocessing': 'scaled',\n",
    "                  'score': dectree_test_score_j})\n",
    "\n",
    "results_j.append({'model': 'KNeighborsClassifier',\n",
    "                  'dataset' : 'train',\n",
    "                  'preprocessing': 'scaled',\n",
    "                  'score': knc_train_score_j})\n",
    "\n",
    "results_j.append({'model': 'KNeighborsClassifier',\n",
    "                  'dataset' : 'test',\n",
    "                  'preprocessing': 'scaled',\n",
    "                  'score': knc_test_score_j})\n",
    "\n",
    "results_j.append({'model': 'SVC',\n",
    "                  'dataset' : 'train',\n",
    "                  'preprocessing': 'scaled',\n",
    "                  'score': svc_train_score_j})\n",
    "\n",
    "results_j.append({'model': 'SVC',\n",
    "                  'dataset' : 'test',\n",
    "                  'preprocessing': 'scaled',\n",
    "                  'score': svc_test_score_j})"
   ]
  },
  {
   "cell_type": "code",
   "execution_count": 25,
   "metadata": {},
   "outputs": [
    {
     "data": {
      "text/html": [
       "<div>\n",
       "<table border=\"1\" class=\"dataframe\">\n",
       "  <thead>\n",
       "    <tr style=\"text-align: right;\">\n",
       "      <th></th>\n",
       "      <th>dataset</th>\n",
       "      <th>model</th>\n",
       "      <th>preprocessing</th>\n",
       "      <th>score</th>\n",
       "    </tr>\n",
       "  </thead>\n",
       "  <tbody>\n",
       "    <tr>\n",
       "      <th>0</th>\n",
       "      <td>train</td>\n",
       "      <td>LogisticRegression</td>\n",
       "      <td>scaled</td>\n",
       "      <td>1.000000</td>\n",
       "    </tr>\n",
       "    <tr>\n",
       "      <th>1</th>\n",
       "      <td>test</td>\n",
       "      <td>LogisticRegression</td>\n",
       "      <td>scaled</td>\n",
       "      <td>0.530303</td>\n",
       "    </tr>\n",
       "    <tr>\n",
       "      <th>2</th>\n",
       "      <td>train</td>\n",
       "      <td>DecisionTreeClassifier</td>\n",
       "      <td>scaled</td>\n",
       "      <td>1.000000</td>\n",
       "    </tr>\n",
       "    <tr>\n",
       "      <th>3</th>\n",
       "      <td>test</td>\n",
       "      <td>DecisionTreeClassifier</td>\n",
       "      <td>scaled</td>\n",
       "      <td>0.624242</td>\n",
       "    </tr>\n",
       "    <tr>\n",
       "      <th>4</th>\n",
       "      <td>train</td>\n",
       "      <td>KNeighborsClassifier</td>\n",
       "      <td>scaled</td>\n",
       "      <td>0.721642</td>\n",
       "    </tr>\n",
       "    <tr>\n",
       "      <th>5</th>\n",
       "      <td>test</td>\n",
       "      <td>KNeighborsClassifier</td>\n",
       "      <td>scaled</td>\n",
       "      <td>0.518182</td>\n",
       "    </tr>\n",
       "    <tr>\n",
       "      <th>6</th>\n",
       "      <td>train</td>\n",
       "      <td>SVC</td>\n",
       "      <td>scaled</td>\n",
       "      <td>1.000000</td>\n",
       "    </tr>\n",
       "    <tr>\n",
       "      <th>7</th>\n",
       "      <td>test</td>\n",
       "      <td>SVC</td>\n",
       "      <td>scaled</td>\n",
       "      <td>0.595455</td>\n",
       "    </tr>\n",
       "  </tbody>\n",
       "</table>\n",
       "</div>"
      ],
      "text/plain": [
       "  dataset                   model preprocessing     score\n",
       "0   train      LogisticRegression        scaled  1.000000\n",
       "1    test      LogisticRegression        scaled  0.530303\n",
       "2   train  DecisionTreeClassifier        scaled  1.000000\n",
       "3    test  DecisionTreeClassifier        scaled  0.624242\n",
       "4   train    KNeighborsClassifier        scaled  0.721642\n",
       "5    test    KNeighborsClassifier        scaled  0.518182\n",
       "6   train                     SVC        scaled  1.000000\n",
       "7    test                     SVC        scaled  0.595455"
      ]
     },
     "execution_count": 25,
     "metadata": {},
     "output_type": "execute_result"
    }
   ],
   "source": [
    "j_madelon_benchmark_results_df = pd.DataFrame(results_j)\n",
    "j_madelon_benchmark_results_df"
   ]
  },
  {
   "cell_type": "markdown",
   "metadata": {
    "collapsed": true
   },
   "source": [
    "small change"
   ]
  },
  {
   "cell_type": "code",
   "execution_count": null,
   "metadata": {
    "collapsed": true
   },
   "outputs": [],
   "source": []
  }
 ],
 "metadata": {
  "kernelspec": {
   "display_name": "Python 3",
   "language": "python",
   "name": "python3"
  },
  "language_info": {
   "codemirror_mode": {
    "name": "ipython",
    "version": 3
   },
   "file_extension": ".py",
   "mimetype": "text/x-python",
   "name": "python",
   "nbconvert_exporter": "python",
   "pygments_lexer": "ipython3",
   "version": "3.6.2"
  }
 },
 "nbformat": 4,
 "nbformat_minor": 2
}
