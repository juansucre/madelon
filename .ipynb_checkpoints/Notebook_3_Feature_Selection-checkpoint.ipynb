{
 "cells": [
  {
   "cell_type": "markdown",
   "metadata": {},
   "source": [
    "# Notebook 3 - Feature Selection"
   ]
  },
  {
   "cell_type": "code",
   "execution_count": 25,
   "metadata": {},
   "outputs": [
    {
     "name": "stdout",
     "output_type": "stream",
     "text": [
      "Requirement already satisfied: tqdm in /opt/conda/lib/python3.6/site-packages\r\n"
     ]
    }
   ],
   "source": [
    "!pip install tqdm"
   ]
  },
  {
   "cell_type": "code",
   "execution_count": 26,
   "metadata": {
    "collapsed": true
   },
   "outputs": [],
   "source": [
    "from sklearn.pipeline import make_pipeline\n",
    "from sklearn.linear_model import LogisticRegression\n",
    "from sklearn.tree import DecisionTreeClassifier\n",
    "from sklearn.neighbors import KNeighborsClassifier, KNeighborsRegressor\n",
    "from sklearn.model_selection import train_test_split\n",
    "from sklearn.preprocessing import StandardScaler\n",
    "from sklearn.svm import LinearSVC\n",
    "from sklearn.feature_selection import SelectKBest, SelectFromModel, RFE, chi2, f_regression\n",
    "\n",
    "import numpy as np\n",
    "import pandas as pd\n",
    "import tqdm\n",
    "\n",
    "import pickle\n",
    "from sklearn.externals import joblib"
   ]
  },
  {
   "cell_type": "markdown",
   "metadata": {},
   "source": [
    "# Feature Selection"
   ]
  },
  {
   "cell_type": "markdown",
   "metadata": {},
   "source": [
    "## on UCI"
   ]
  },
  {
   "cell_type": "code",
   "execution_count": 27,
   "metadata": {
    "collapsed": true
   },
   "outputs": [],
   "source": [
    "uci_madelon = joblib.load('./pickles/uci_madelon1new.pkl')"
   ]
  },
  {
   "cell_type": "code",
   "execution_count": 28,
   "metadata": {
    "collapsed": true
   },
   "outputs": [],
   "source": [
    "uci_madelon_no_target = uci_madelon.drop(['target'], axis = 1)"
   ]
  },
  {
   "cell_type": "code",
   "execution_count": 29,
   "metadata": {},
   "outputs": [
    {
     "data": {
      "text/html": [
       "<div>\n",
       "<table border=\"1\" class=\"dataframe\">\n",
       "  <thead>\n",
       "    <tr style=\"text-align: right;\">\n",
       "      <th></th>\n",
       "      <th>0</th>\n",
       "      <th>1</th>\n",
       "      <th>2</th>\n",
       "      <th>3</th>\n",
       "      <th>4</th>\n",
       "      <th>5</th>\n",
       "      <th>6</th>\n",
       "      <th>7</th>\n",
       "      <th>8</th>\n",
       "      <th>9</th>\n",
       "      <th>...</th>\n",
       "      <th>491</th>\n",
       "      <th>492</th>\n",
       "      <th>493</th>\n",
       "      <th>494</th>\n",
       "      <th>495</th>\n",
       "      <th>496</th>\n",
       "      <th>497</th>\n",
       "      <th>498</th>\n",
       "      <th>499</th>\n",
       "      <th>target</th>\n",
       "    </tr>\n",
       "  </thead>\n",
       "  <tbody>\n",
       "    <tr>\n",
       "      <th>76</th>\n",
       "      <td>481</td>\n",
       "      <td>487</td>\n",
       "      <td>474</td>\n",
       "      <td>488</td>\n",
       "      <td>561</td>\n",
       "      <td>482</td>\n",
       "      <td>354</td>\n",
       "      <td>478</td>\n",
       "      <td>468</td>\n",
       "      <td>471</td>\n",
       "      <td>...</td>\n",
       "      <td>482</td>\n",
       "      <td>493</td>\n",
       "      <td>697</td>\n",
       "      <td>486</td>\n",
       "      <td>567</td>\n",
       "      <td>476</td>\n",
       "      <td>508</td>\n",
       "      <td>554</td>\n",
       "      <td>536</td>\n",
       "      <td>-1</td>\n",
       "    </tr>\n",
       "    <tr>\n",
       "      <th>355</th>\n",
       "      <td>476</td>\n",
       "      <td>502</td>\n",
       "      <td>529</td>\n",
       "      <td>493</td>\n",
       "      <td>490</td>\n",
       "      <td>468</td>\n",
       "      <td>446</td>\n",
       "      <td>476</td>\n",
       "      <td>490</td>\n",
       "      <td>464</td>\n",
       "      <td>...</td>\n",
       "      <td>471</td>\n",
       "      <td>514</td>\n",
       "      <td>420</td>\n",
       "      <td>454</td>\n",
       "      <td>557</td>\n",
       "      <td>482</td>\n",
       "      <td>457</td>\n",
       "      <td>510</td>\n",
       "      <td>500</td>\n",
       "      <td>-1</td>\n",
       "    </tr>\n",
       "    <tr>\n",
       "      <th>916</th>\n",
       "      <td>469</td>\n",
       "      <td>454</td>\n",
       "      <td>489</td>\n",
       "      <td>481</td>\n",
       "      <td>500</td>\n",
       "      <td>478</td>\n",
       "      <td>461</td>\n",
       "      <td>475</td>\n",
       "      <td>477</td>\n",
       "      <td>481</td>\n",
       "      <td>...</td>\n",
       "      <td>479</td>\n",
       "      <td>498</td>\n",
       "      <td>589</td>\n",
       "      <td>517</td>\n",
       "      <td>556</td>\n",
       "      <td>484</td>\n",
       "      <td>476</td>\n",
       "      <td>539</td>\n",
       "      <td>473</td>\n",
       "      <td>-1</td>\n",
       "    </tr>\n",
       "    <tr>\n",
       "      <th>1694</th>\n",
       "      <td>470</td>\n",
       "      <td>513</td>\n",
       "      <td>496</td>\n",
       "      <td>478</td>\n",
       "      <td>467</td>\n",
       "      <td>481</td>\n",
       "      <td>454</td>\n",
       "      <td>476</td>\n",
       "      <td>488</td>\n",
       "      <td>486</td>\n",
       "      <td>...</td>\n",
       "      <td>469</td>\n",
       "      <td>527</td>\n",
       "      <td>296</td>\n",
       "      <td>478</td>\n",
       "      <td>556</td>\n",
       "      <td>477</td>\n",
       "      <td>509</td>\n",
       "      <td>527</td>\n",
       "      <td>520</td>\n",
       "      <td>-1</td>\n",
       "    </tr>\n",
       "    <tr>\n",
       "      <th>133</th>\n",
       "      <td>483</td>\n",
       "      <td>480</td>\n",
       "      <td>513</td>\n",
       "      <td>502</td>\n",
       "      <td>520</td>\n",
       "      <td>481</td>\n",
       "      <td>502</td>\n",
       "      <td>477</td>\n",
       "      <td>519</td>\n",
       "      <td>475</td>\n",
       "      <td>...</td>\n",
       "      <td>486</td>\n",
       "      <td>531</td>\n",
       "      <td>550</td>\n",
       "      <td>502</td>\n",
       "      <td>497</td>\n",
       "      <td>480</td>\n",
       "      <td>486</td>\n",
       "      <td>496</td>\n",
       "      <td>462</td>\n",
       "      <td>1</td>\n",
       "    </tr>\n",
       "  </tbody>\n",
       "</table>\n",
       "<p>5 rows × 501 columns</p>\n",
       "</div>"
      ],
      "text/plain": [
       "        0    1    2    3    4    5    6    7    8    9   ...    491  492  493  \\\n",
       "76    481  487  474  488  561  482  354  478  468  471   ...    482  493  697   \n",
       "355   476  502  529  493  490  468  446  476  490  464   ...    471  514  420   \n",
       "916   469  454  489  481  500  478  461  475  477  481   ...    479  498  589   \n",
       "1694  470  513  496  478  467  481  454  476  488  486   ...    469  527  296   \n",
       "133   483  480  513  502  520  481  502  477  519  475   ...    486  531  550   \n",
       "\n",
       "      494  495  496  497  498  499  target  \n",
       "76    486  567  476  508  554  536      -1  \n",
       "355   454  557  482  457  510  500      -1  \n",
       "916   517  556  484  476  539  473      -1  \n",
       "1694  478  556  477  509  527  520      -1  \n",
       "133   502  497  480  486  496  462       1  \n",
       "\n",
       "[5 rows x 501 columns]"
      ]
     },
     "execution_count": 29,
     "metadata": {},
     "output_type": "execute_result"
    }
   ],
   "source": [
    "uci_madelon.head()"
   ]
  },
  {
   "cell_type": "markdown",
   "metadata": {},
   "source": [
    "### Correlation Matrix"
   ]
  },
  {
   "cell_type": "code",
   "execution_count": 30,
   "metadata": {
    "collapsed": true,
    "scrolled": true
   },
   "outputs": [],
   "source": [
    "corr_matrix = uci_madelon_no_target.corr()"
   ]
  },
  {
   "cell_type": "code",
   "execution_count": 31,
   "metadata": {
    "collapsed": true
   },
   "outputs": [],
   "source": [
    "n = corr_matrix.shape[0]\n",
    "\n",
    "for i in range(n):\n",
    "    corr_matrix.iloc[i,i] = 0\n",
    "\n",
    "corr_matrix = corr_matrix.abs()\n",
    "\n",
    "max_corr = corr_matrix.max()"
   ]
  },
  {
   "cell_type": "code",
   "execution_count": 35,
   "metadata": {
    "scrolled": true
   },
   "outputs": [
    {
     "name": "stdout",
     "output_type": "stream",
     "text": [
      "20\n"
     ]
    },
    {
     "data": {
      "text/plain": [
       "[28,\n",
       " 48,\n",
       " 64,\n",
       " 105,\n",
       " 128,\n",
       " 153,\n",
       " 241,\n",
       " 281,\n",
       " 318,\n",
       " 336,\n",
       " 338,\n",
       " 378,\n",
       " 433,\n",
       " 442,\n",
       " 451,\n",
       " 453,\n",
       " 455,\n",
       " 472,\n",
       " 475,\n",
       " 493]"
      ]
     },
     "execution_count": 35,
     "metadata": {},
     "output_type": "execute_result"
    }
   ],
   "source": [
    "feats = list(corr_matrix.loc[:, max_corr > .6].columns)\n",
    "print(len(feats))\n",
    "feats"
   ]
  },
  {
   "cell_type": "code",
   "execution_count": null,
   "metadata": {
    "collapsed": true
   },
   "outputs": [],
   "source": [
    "joblib.dump(feats, 'uci_feats.pkl')"
   ]
  },
  {
   "cell_type": "markdown",
   "metadata": {},
   "source": [
    "### SelectKBest"
   ]
  },
  {
   "cell_type": "code",
   "execution_count": 46,
   "metadata": {
    "collapsed": true
   },
   "outputs": [],
   "source": [
    "skb = SelectKBest()"
   ]
  },
  {
   "cell_type": "code",
   "execution_count": 47,
   "metadata": {
    "collapsed": true
   },
   "outputs": [],
   "source": [
    " def find_KBest(data):\n",
    "    '''\n",
    "    Find the 20 best features from a set of data. Data input should come without a target column.\n",
    "    '''\n",
    "    for col in data.columns:\n",
    "        \n",
    "        X = data.drop([col], axis = 1)\n",
    "        y = data[col]\n",
    "        \n",
    "        X_train, X_test, y_train, y_test = train_test_split(X, y, test_size = 0.33)\n",
    "        \n",
    "        fit = SelectKBest(score_func= f_regression, k=20).fit(X_train,y_train)\n",
    "    \n",
    "        skb_feats = list(np.where(fit.get_support())[0])\n",
    "        \n",
    "    return skb_feats"
   ]
  },
  {
   "cell_type": "code",
   "execution_count": 48,
   "metadata": {},
   "outputs": [
    {
     "data": {
      "text/plain": [
       "[14,\n",
       " 20,\n",
       " 83,\n",
       " 86,\n",
       " 103,\n",
       " 110,\n",
       " 160,\n",
       " 163,\n",
       " 211,\n",
       " 235,\n",
       " 238,\n",
       " 256,\n",
       " 280,\n",
       " 289,\n",
       " 299,\n",
       " 344,\n",
       " 432,\n",
       " 438,\n",
       " 460,\n",
       " 497]"
      ]
     },
     "execution_count": 48,
     "metadata": {},
     "output_type": "execute_result"
    }
   ],
   "source": [
    "skb_feats = find_KBest(uci_madelon_no_target)\n",
    "skb_feats"
   ]
  },
  {
   "cell_type": "markdown",
   "metadata": {},
   "source": [
    "### SelectFromModel"
   ]
  },
  {
   "cell_type": "code",
   "execution_count": null,
   "metadata": {
    "collapsed": true
   },
   "outputs": [],
   "source": [
    "X = uci_madelon_no_target\n",
    "y = uci_madelon['target']\n",
    "\n",
    "X_train, X_test, y_train, y_test = train_test_split(X, y, test_size = 0.33)"
   ]
  },
  {
   "cell_type": "code",
   "execution_count": null,
   "metadata": {
    "collapsed": true
   },
   "outputs": [],
   "source": [
    "sfm_logr = SelectFromModel(LogisticRegression(), threshold = '2.85*mean')"
   ]
  },
  {
   "cell_type": "code",
   "execution_count": null,
   "metadata": {
    "collapsed": true
   },
   "outputs": [],
   "source": [
    "sfm_logr.fit(X_train, y_train)"
   ]
  },
  {
   "cell_type": "code",
   "execution_count": null,
   "metadata": {
    "collapsed": true
   },
   "outputs": [],
   "source": [
    "sfm_logr_feats = np.where(sfm_logr.get_support())[0]\n",
    "\n",
    "sfm_logr_feats"
   ]
  },
  {
   "cell_type": "markdown",
   "metadata": {
    "collapsed": true
   },
   "source": [
    "### RFE"
   ]
  },
  {
   "cell_type": "code",
   "execution_count": null,
   "metadata": {
    "collapsed": true
   },
   "outputs": [],
   "source": [
    "rfe = RFE(LogisticRegression(), n_features_to_select=20, step = 5, verbose=1)"
   ]
  },
  {
   "cell_type": "code",
   "execution_count": null,
   "metadata": {
    "collapsed": true,
    "scrolled": true
   },
   "outputs": [],
   "source": [
    "rfe.fit(X_train, y_train)"
   ]
  },
  {
   "cell_type": "code",
   "execution_count": null,
   "metadata": {
    "collapsed": true
   },
   "outputs": [],
   "source": [
    "rfe_feats = np.where(rfe.get_support())[0]\n",
    "rfe_feats"
   ]
  },
  {
   "cell_type": "markdown",
   "metadata": {},
   "source": [
    "### Mean R2"
   ]
  },
  {
   "cell_type": "code",
   "execution_count": 44,
   "metadata": {
    "collapsed": true
   },
   "outputs": [],
   "source": [
    "def calculate_r_2_for_feature(data, feature, regression_method):\n",
    "    '''\n",
    "    Given a dataset, a feature, and a regression method, return the R2 for that feature.\n",
    "    '''\n",
    "    new_data = data.drop(feature, axis=1)\n",
    "    X_train, X_test, y_train, y_test = train_test_split(new_data, data[feature], test_size=0.33)\n",
    "\n",
    "    regressor = regression_method\n",
    "    regressor.fit(X_train, y_train)\n",
    "\n",
    "    score = regressor.score(X_test, y_test)\n",
    "    return score\n",
    "\n",
    "\n",
    "def mean_r2_for_feature(data, feature, regression_method):\n",
    "    '''\n",
    "    Take 3 iterations of caclulating the R2 for a feature, then take the average.\n",
    "    '''\n",
    "    scores = []\n",
    "    \n",
    "    for _ in range(3):\n",
    "        scores.append(calculate_r_2_for_feature(data, feature, regression_method))   \n",
    "    \n",
    "    scores = np.array(scores)\n",
    "    mean_scores = scores.mean()\n",
    "    \n",
    "    return mean_scores \n",
    "\n",
    "def return_feature_scores(data, regression_method):\n",
    "    '''\n",
    "    Returns the scores of all features. \n",
    "    '''\n",
    "    feature_scores = []\n",
    "    columns = data.columns\n",
    "    \n",
    "    for col in columns:\n",
    "        mean_r2 = mean_r2_for_feature(data, col, regression_method)\n",
    "        \n",
    "        if mean_r2 > 0:\n",
    "            feature_scores.append((col, mean_r2))\n",
    "            \n",
    "        else:\n",
    "            pass\n",
    "        \n",
    "    return feature_scores"
   ]
  },
  {
   "cell_type": "code",
   "execution_count": null,
   "metadata": {
    "collapsed": true
   },
   "outputs": [],
   "source": [
    "return_feature_scores(uci_madelon, KNeighborsRegressor(n_jobs = -1))"
   ]
  },
  {
   "cell_type": "markdown",
   "metadata": {
    "collapsed": true
   },
   "source": [
    "## on Josh's"
   ]
  },
  {
   "cell_type": "markdown",
   "metadata": {},
   "source": [
    "`j_madelon_test.pkl` is a sample set with shape `(2000, 1002)`"
   ]
  },
  {
   "cell_type": "code",
   "execution_count": 36,
   "metadata": {
    "collapsed": true
   },
   "outputs": [],
   "source": [
    "j_madelon = joblib.load('./pickles/j_madelon_test.pkl')\n",
    "j_madelon = j_madelon.drop(['_id'], axis = 1)"
   ]
  },
  {
   "cell_type": "code",
   "execution_count": 37,
   "metadata": {
    "collapsed": true
   },
   "outputs": [],
   "source": [
    "Xj = j_madelon.drop(['target'], axis = 1)\n",
    "yj = j_madelon['target']"
   ]
  },
  {
   "cell_type": "markdown",
   "metadata": {},
   "source": [
    "### Correlation Matrix"
   ]
  },
  {
   "cell_type": "code",
   "execution_count": 38,
   "metadata": {
    "collapsed": true
   },
   "outputs": [],
   "source": [
    "corr_matrix_j = j_madelon.corr()"
   ]
  },
  {
   "cell_type": "code",
   "execution_count": 39,
   "metadata": {
    "collapsed": true
   },
   "outputs": [],
   "source": [
    "np.fill_diagonal(corr_matrix_j.values, 0)"
   ]
  },
  {
   "cell_type": "code",
   "execution_count": 40,
   "metadata": {
    "collapsed": true
   },
   "outputs": [],
   "source": [
    "corr_matrix_j = corr_matrix_j.abs()\n",
    "\n",
    "max_corr_j = corr_matrix_j.max()"
   ]
  },
  {
   "cell_type": "code",
   "execution_count": 42,
   "metadata": {},
   "outputs": [
    {
     "name": "stdout",
     "output_type": "stream",
     "text": [
      "20\n"
     ]
    },
    {
     "data": {
      "text/plain": [
       "['feat_257',\n",
       " 'feat_269',\n",
       " 'feat_308',\n",
       " 'feat_315',\n",
       " 'feat_336',\n",
       " 'feat_341',\n",
       " 'feat_395',\n",
       " 'feat_504',\n",
       " 'feat_526',\n",
       " 'feat_639',\n",
       " 'feat_681',\n",
       " 'feat_701',\n",
       " 'feat_724',\n",
       " 'feat_736',\n",
       " 'feat_769',\n",
       " 'feat_808',\n",
       " 'feat_829',\n",
       " 'feat_867',\n",
       " 'feat_920',\n",
       " 'feat_956']"
      ]
     },
     "execution_count": 42,
     "metadata": {},
     "output_type": "execute_result"
    }
   ],
   "source": [
    "feats_j = list(corr_matrix_j.loc[:, max_corr_j > .6].columns)\n",
    "print(len(feats_j))\n",
    "feats_j"
   ]
  },
  {
   "cell_type": "code",
   "execution_count": null,
   "metadata": {
    "collapsed": true
   },
   "outputs": [],
   "source": [
    "[257, 269, 308, 315, 336, 341, 395, 504, 526, 639, 681, 701, 724, 736, 769, 808, 829, 867, 920, 956]"
   ]
  },
  {
   "cell_type": "code",
   "execution_count": null,
   "metadata": {
    "collapsed": true
   },
   "outputs": [],
   "source": [
    "joblib.dump(feats_j, 'josh_feats.pkl')"
   ]
  },
  {
   "cell_type": "code",
   "execution_count": 45,
   "metadata": {},
   "outputs": [
    {
     "ename": "NameError",
     "evalue": "name 'Log' is not defined",
     "output_type": "error",
     "traceback": [
      "\u001b[0;31m---------------------------------------------------------------------------\u001b[0m",
      "\u001b[0;31mNameError\u001b[0m                                 Traceback (most recent call last)",
      "\u001b[0;32m<ipython-input-45-55e374662603>\u001b[0m in \u001b[0;36m<module>\u001b[0;34m()\u001b[0m\n\u001b[0;32m----> 1\u001b[0;31m \u001b[0mreturn_feature_scores\u001b[0m\u001b[0;34m(\u001b[0m\u001b[0mj_madelon\u001b[0m\u001b[0;34m,\u001b[0m \u001b[0mLog\u001b[0m\u001b[0;34m(\u001b[0m\u001b[0mn_jobs\u001b[0m \u001b[0;34m=\u001b[0m \u001b[0;34m-\u001b[0m\u001b[0;36m1\u001b[0m\u001b[0;34m)\u001b[0m\u001b[0;34m)\u001b[0m\u001b[0;34m\u001b[0m\u001b[0m\n\u001b[0m",
      "\u001b[0;31mNameError\u001b[0m: name 'Log' is not defined"
     ]
    }
   ],
   "source": [
    "return_feature_scores(j_madelon, Log(n_jobs = -1))"
   ]
  },
  {
   "cell_type": "markdown",
   "metadata": {
    "collapsed": true
   },
   "source": [
    "## Dimension Reduction"
   ]
  },
  {
   "cell_type": "markdown",
   "metadata": {},
   "source": [
    "### UCI"
   ]
  },
  {
   "cell_type": "markdown",
   "metadata": {},
   "source": [
    "Decided to go with the 20 features found from the correlation matrix technique.\n",
    "\n",
    "`28, 48, 64, 105, 128, 153, 241, 281, 318, 336, 338, 378, 433, 442, 451, 453, 455, 472, 475, 493`\n"
   ]
  },
  {
   "cell_type": "code",
   "execution_count": 1,
   "metadata": {
    "collapsed": true
   },
   "outputs": [],
   "source": [
    "from sklearn.decomposition import PCA"
   ]
  },
  {
   "cell_type": "code",
   "execution_count": null,
   "metadata": {
    "collapsed": true
   },
   "outputs": [],
   "source": [
    "pca_uci = PCA(n_components=5)"
   ]
  },
  {
   "cell_type": "code",
   "execution_count": null,
   "metadata": {
    "collapsed": true
   },
   "outputs": [],
   "source": [
    "pca_uci.fit(uci_madelon[feats])"
   ]
  },
  {
   "cell_type": "code",
   "execution_count": null,
   "metadata": {
    "collapsed": true
   },
   "outputs": [],
   "source": [
    "pd.DataFrame(pca_uci.components_)"
   ]
  },
  {
   "cell_type": "code",
   "execution_count": null,
   "metadata": {
    "collapsed": true
   },
   "outputs": [],
   "source": [
    "pca_uci.explained_variance_"
   ]
  },
  {
   "cell_type": "code",
   "execution_count": null,
   "metadata": {
    "collapsed": true
   },
   "outputs": [],
   "source": [
    "uci_madelon_pca = pca_uci.transform(uci_madelon[feats])"
   ]
  },
  {
   "cell_type": "code",
   "execution_count": null,
   "metadata": {
    "collapsed": true
   },
   "outputs": [],
   "source": [
    "uci_madelon_pca_df = pd.DataFrame(uci_madelon_pca)"
   ]
  },
  {
   "cell_type": "code",
   "execution_count": null,
   "metadata": {
    "collapsed": true
   },
   "outputs": [],
   "source": [
    "uci_madelon_pca_df.head()"
   ]
  },
  {
   "cell_type": "markdown",
   "metadata": {},
   "source": [
    "### Josh's"
   ]
  },
  {
   "cell_type": "code",
   "execution_count": 5,
   "metadata": {
    "collapsed": true
   },
   "outputs": [],
   "source": [
    "pca_josh = PCA(n_components=5)"
   ]
  },
  {
   "cell_type": "code",
   "execution_count": 10,
   "metadata": {},
   "outputs": [
    {
     "data": {
      "text/plain": [
       "PCA(copy=True, iterated_power='auto', n_components=5, random_state=None,\n",
       "  svd_solver='auto', tol=0.0, whiten=False)"
      ]
     },
     "execution_count": 10,
     "metadata": {},
     "output_type": "execute_result"
    }
   ],
   "source": [
    "pca_josh.fit(j_madelon[feats_j])"
   ]
  },
  {
   "cell_type": "code",
   "execution_count": 11,
   "metadata": {},
   "outputs": [
    {
     "data": {
      "text/html": [
       "<div>\n",
       "<table border=\"1\" class=\"dataframe\">\n",
       "  <thead>\n",
       "    <tr style=\"text-align: right;\">\n",
       "      <th></th>\n",
       "      <th>0</th>\n",
       "      <th>1</th>\n",
       "      <th>2</th>\n",
       "      <th>3</th>\n",
       "      <th>4</th>\n",
       "      <th>5</th>\n",
       "      <th>6</th>\n",
       "      <th>7</th>\n",
       "      <th>8</th>\n",
       "      <th>9</th>\n",
       "      <th>10</th>\n",
       "      <th>11</th>\n",
       "      <th>12</th>\n",
       "      <th>13</th>\n",
       "      <th>14</th>\n",
       "      <th>15</th>\n",
       "      <th>16</th>\n",
       "      <th>17</th>\n",
       "      <th>18</th>\n",
       "      <th>19</th>\n",
       "    </tr>\n",
       "  </thead>\n",
       "  <tbody>\n",
       "    <tr>\n",
       "      <th>0</th>\n",
       "      <td>-0.136820</td>\n",
       "      <td>-0.025303</td>\n",
       "      <td>0.011481</td>\n",
       "      <td>0.085652</td>\n",
       "      <td>-0.352789</td>\n",
       "      <td>-0.436513</td>\n",
       "      <td>-0.227450</td>\n",
       "      <td>-0.260787</td>\n",
       "      <td>0.216467</td>\n",
       "      <td>-0.355875</td>\n",
       "      <td>0.061590</td>\n",
       "      <td>-0.170021</td>\n",
       "      <td>0.159180</td>\n",
       "      <td>-0.164475</td>\n",
       "      <td>0.178942</td>\n",
       "      <td>0.062010</td>\n",
       "      <td>-0.338650</td>\n",
       "      <td>0.190219</td>\n",
       "      <td>0.070552</td>\n",
       "      <td>-0.296849</td>\n",
       "    </tr>\n",
       "    <tr>\n",
       "      <th>1</th>\n",
       "      <td>-0.197858</td>\n",
       "      <td>0.477460</td>\n",
       "      <td>-0.001346</td>\n",
       "      <td>0.328745</td>\n",
       "      <td>-0.052728</td>\n",
       "      <td>0.240963</td>\n",
       "      <td>0.247158</td>\n",
       "      <td>-0.000237</td>\n",
       "      <td>0.038109</td>\n",
       "      <td>-0.157868</td>\n",
       "      <td>0.109902</td>\n",
       "      <td>-0.408108</td>\n",
       "      <td>-0.370962</td>\n",
       "      <td>0.150923</td>\n",
       "      <td>-0.145190</td>\n",
       "      <td>0.079236</td>\n",
       "      <td>0.030978</td>\n",
       "      <td>0.195115</td>\n",
       "      <td>-0.202190</td>\n",
       "      <td>-0.173821</td>\n",
       "    </tr>\n",
       "    <tr>\n",
       "      <th>2</th>\n",
       "      <td>-0.257227</td>\n",
       "      <td>-0.222110</td>\n",
       "      <td>0.302716</td>\n",
       "      <td>-0.059602</td>\n",
       "      <td>-0.313101</td>\n",
       "      <td>-0.016421</td>\n",
       "      <td>0.135864</td>\n",
       "      <td>0.313477</td>\n",
       "      <td>-0.282030</td>\n",
       "      <td>0.049000</td>\n",
       "      <td>-0.141322</td>\n",
       "      <td>0.231050</td>\n",
       "      <td>-0.376963</td>\n",
       "      <td>-0.240142</td>\n",
       "      <td>-0.026569</td>\n",
       "      <td>0.406151</td>\n",
       "      <td>-0.199558</td>\n",
       "      <td>0.113449</td>\n",
       "      <td>-0.023734</td>\n",
       "      <td>0.017154</td>\n",
       "    </tr>\n",
       "    <tr>\n",
       "      <th>3</th>\n",
       "      <td>-0.184331</td>\n",
       "      <td>0.043123</td>\n",
       "      <td>-0.125733</td>\n",
       "      <td>-0.048039</td>\n",
       "      <td>0.156635</td>\n",
       "      <td>0.018595</td>\n",
       "      <td>0.243039</td>\n",
       "      <td>-0.305444</td>\n",
       "      <td>-0.187240</td>\n",
       "      <td>-0.089942</td>\n",
       "      <td>0.210504</td>\n",
       "      <td>0.251765</td>\n",
       "      <td>-0.094657</td>\n",
       "      <td>0.198150</td>\n",
       "      <td>-0.318295</td>\n",
       "      <td>-0.043596</td>\n",
       "      <td>-0.471412</td>\n",
       "      <td>-0.255484</td>\n",
       "      <td>0.414047</td>\n",
       "      <td>-0.087090</td>\n",
       "    </tr>\n",
       "    <tr>\n",
       "      <th>4</th>\n",
       "      <td>-0.155032</td>\n",
       "      <td>-0.178836</td>\n",
       "      <td>-0.511852</td>\n",
       "      <td>0.213431</td>\n",
       "      <td>0.066594</td>\n",
       "      <td>-0.135757</td>\n",
       "      <td>0.225375</td>\n",
       "      <td>0.287196</td>\n",
       "      <td>0.141837</td>\n",
       "      <td>-0.012524</td>\n",
       "      <td>-0.491737</td>\n",
       "      <td>-0.001917</td>\n",
       "      <td>-0.055853</td>\n",
       "      <td>0.298546</td>\n",
       "      <td>0.282940</td>\n",
       "      <td>0.049971</td>\n",
       "      <td>-0.049219</td>\n",
       "      <td>-0.079542</td>\n",
       "      <td>0.124987</td>\n",
       "      <td>-0.137989</td>\n",
       "    </tr>\n",
       "  </tbody>\n",
       "</table>\n",
       "</div>"
      ],
      "text/plain": [
       "         0         1         2         3         4         5         6   \\\n",
       "0 -0.136820 -0.025303  0.011481  0.085652 -0.352789 -0.436513 -0.227450   \n",
       "1 -0.197858  0.477460 -0.001346  0.328745 -0.052728  0.240963  0.247158   \n",
       "2 -0.257227 -0.222110  0.302716 -0.059602 -0.313101 -0.016421  0.135864   \n",
       "3 -0.184331  0.043123 -0.125733 -0.048039  0.156635  0.018595  0.243039   \n",
       "4 -0.155032 -0.178836 -0.511852  0.213431  0.066594 -0.135757  0.225375   \n",
       "\n",
       "         7         8         9         10        11        12        13  \\\n",
       "0 -0.260787  0.216467 -0.355875  0.061590 -0.170021  0.159180 -0.164475   \n",
       "1 -0.000237  0.038109 -0.157868  0.109902 -0.408108 -0.370962  0.150923   \n",
       "2  0.313477 -0.282030  0.049000 -0.141322  0.231050 -0.376963 -0.240142   \n",
       "3 -0.305444 -0.187240 -0.089942  0.210504  0.251765 -0.094657  0.198150   \n",
       "4  0.287196  0.141837 -0.012524 -0.491737 -0.001917 -0.055853  0.298546   \n",
       "\n",
       "         14        15        16        17        18        19  \n",
       "0  0.178942  0.062010 -0.338650  0.190219  0.070552 -0.296849  \n",
       "1 -0.145190  0.079236  0.030978  0.195115 -0.202190 -0.173821  \n",
       "2 -0.026569  0.406151 -0.199558  0.113449 -0.023734  0.017154  \n",
       "3 -0.318295 -0.043596 -0.471412 -0.255484  0.414047 -0.087090  \n",
       "4  0.282940  0.049971 -0.049219 -0.079542  0.124987 -0.137989  "
      ]
     },
     "execution_count": 11,
     "metadata": {},
     "output_type": "execute_result"
    }
   ],
   "source": [
    "pd.DataFrame(pca_josh.components_)"
   ]
  },
  {
   "cell_type": "code",
   "execution_count": 12,
   "metadata": {},
   "outputs": [
    {
     "data": {
      "text/plain": [
       "array([ 29.20786426,  24.88210071,  11.17649782,   7.95997795,   5.89482313])"
      ]
     },
     "execution_count": 12,
     "metadata": {},
     "output_type": "execute_result"
    }
   ],
   "source": [
    "pca_josh.explained_variance_"
   ]
  },
  {
   "cell_type": "code",
   "execution_count": 15,
   "metadata": {
    "collapsed": true
   },
   "outputs": [],
   "source": [
    "josh_madelon_pca = pca_josh.transform(j_madelon[feats_j])"
   ]
  },
  {
   "cell_type": "code",
   "execution_count": 16,
   "metadata": {
    "collapsed": true
   },
   "outputs": [],
   "source": [
    "josh_madelon_pca_df = pd.DataFrame(josh_madelon_pca)"
   ]
  },
  {
   "cell_type": "code",
   "execution_count": 18,
   "metadata": {},
   "outputs": [
    {
     "data": {
      "text/html": [
       "<div>\n",
       "<table border=\"1\" class=\"dataframe\">\n",
       "  <thead>\n",
       "    <tr style=\"text-align: right;\">\n",
       "      <th></th>\n",
       "      <th>0</th>\n",
       "      <th>1</th>\n",
       "      <th>2</th>\n",
       "      <th>3</th>\n",
       "      <th>4</th>\n",
       "    </tr>\n",
       "  </thead>\n",
       "  <tbody>\n",
       "    <tr>\n",
       "      <th>0</th>\n",
       "      <td>5.988974</td>\n",
       "      <td>-0.251109</td>\n",
       "      <td>2.248139</td>\n",
       "      <td>0.518833</td>\n",
       "      <td>0.283657</td>\n",
       "    </tr>\n",
       "    <tr>\n",
       "      <th>1</th>\n",
       "      <td>1.702542</td>\n",
       "      <td>4.178978</td>\n",
       "      <td>-1.353208</td>\n",
       "      <td>1.148923</td>\n",
       "      <td>-5.052881</td>\n",
       "    </tr>\n",
       "    <tr>\n",
       "      <th>2</th>\n",
       "      <td>4.043677</td>\n",
       "      <td>2.912308</td>\n",
       "      <td>0.004676</td>\n",
       "      <td>0.987972</td>\n",
       "      <td>-2.882875</td>\n",
       "    </tr>\n",
       "    <tr>\n",
       "      <th>3</th>\n",
       "      <td>4.675206</td>\n",
       "      <td>1.756221</td>\n",
       "      <td>-2.332146</td>\n",
       "      <td>1.507797</td>\n",
       "      <td>0.840058</td>\n",
       "    </tr>\n",
       "    <tr>\n",
       "      <th>4</th>\n",
       "      <td>-3.230838</td>\n",
       "      <td>-1.687809</td>\n",
       "      <td>0.769312</td>\n",
       "      <td>-2.583358</td>\n",
       "      <td>-1.609537</td>\n",
       "    </tr>\n",
       "  </tbody>\n",
       "</table>\n",
       "</div>"
      ],
      "text/plain": [
       "          0         1         2         3         4\n",
       "0  5.988974 -0.251109  2.248139  0.518833  0.283657\n",
       "1  1.702542  4.178978 -1.353208  1.148923 -5.052881\n",
       "2  4.043677  2.912308  0.004676  0.987972 -2.882875\n",
       "3  4.675206  1.756221 -2.332146  1.507797  0.840058\n",
       "4 -3.230838 -1.687809  0.769312 -2.583358 -1.609537"
      ]
     },
     "execution_count": 18,
     "metadata": {},
     "output_type": "execute_result"
    }
   ],
   "source": [
    "josh_madelon_pca_df.head()"
   ]
  },
  {
   "cell_type": "markdown",
   "metadata": {
    "collapsed": true
   },
   "source": [
    "small change"
   ]
  },
  {
   "cell_type": "code",
   "execution_count": null,
   "metadata": {
    "collapsed": true
   },
   "outputs": [],
   "source": []
  }
 ],
 "metadata": {
  "kernelspec": {
   "display_name": "Python 3",
   "language": "python",
   "name": "python3"
  },
  "language_info": {
   "codemirror_mode": {
    "name": "ipython",
    "version": 3
   },
   "file_extension": ".py",
   "mimetype": "text/x-python",
   "name": "python",
   "nbconvert_exporter": "python",
   "pygments_lexer": "ipython3",
   "version": "3.6.2"
  }
 },
 "nbformat": 4,
 "nbformat_minor": 2
}
