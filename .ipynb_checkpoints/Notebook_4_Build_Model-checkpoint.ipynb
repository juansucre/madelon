{
 "cells": [
  {
   "cell_type": "markdown",
   "metadata": {},
   "source": [
    "# Notebook 4 - Building/GridSearching Models"
   ]
  },
  {
   "cell_type": "code",
   "execution_count": 39,
   "metadata": {
    "collapsed": true
   },
   "outputs": [],
   "source": [
    "from sklearn.pipeline import make_pipeline, Pipeline\n",
    "from sklearn.linear_model import LogisticRegression\n",
    "from sklearn.tree import DecisionTreeClassifier\n",
    "from sklearn.ensemble import RandomForestClassifier\n",
    "from sklearn.neighbors import KNeighborsClassifier\n",
    "from sklearn.model_selection import train_test_split, GridSearchCV\n",
    "from sklearn.preprocessing import StandardScaler\n",
    "from sklearn.svm import LinearSVC, SVC\n",
    "from sklearn.feature_selection import SelectKBest, SelectFromModel, RFE, chi2, f_regression\n",
    "from sklearn.decomposition import PCA\n",
    "\n",
    "import numpy as np\n",
    "import pandas as pd\n",
    "import tqdm\n",
    "\n",
    "import pickle\n",
    "from sklearn.externals import joblib"
   ]
  },
  {
   "cell_type": "markdown",
   "metadata": {},
   "source": [
    "## Fitting Models on UCI"
   ]
  },
  {
   "cell_type": "code",
   "execution_count": 40,
   "metadata": {
    "collapsed": true
   },
   "outputs": [],
   "source": [
    "uci_madelon = joblib.load('./pickles/uci_madelonALL.pkl')"
   ]
  },
  {
   "cell_type": "code",
   "execution_count": 41,
   "metadata": {
    "collapsed": true
   },
   "outputs": [],
   "source": [
    "feats = joblib.load('./pickles/uci_feats.pkl')"
   ]
  },
  {
   "cell_type": "code",
   "execution_count": 42,
   "metadata": {
    "collapsed": true
   },
   "outputs": [],
   "source": [
    "uci_mad_feats = uci_madelon[feats]"
   ]
  },
  {
   "cell_type": "code",
   "execution_count": 43,
   "metadata": {
    "collapsed": true
   },
   "outputs": [],
   "source": [
    "y = uci_madelon['target']\n",
    "X = uci_mad_feats"
   ]
  },
  {
   "cell_type": "code",
   "execution_count": 44,
   "metadata": {
    "collapsed": true
   },
   "outputs": [],
   "source": [
    "pipe_tree = Pipeline([('scaler', StandardScaler(with_mean=False)),\n",
    "                      ('pca', PCA(n_components=5)),\n",
    "                      ('estimator', DecisionTreeClassifier())])\n",
    "\n",
    "pipe_logr = Pipeline([('scaler', StandardScaler(with_mean=False)),\n",
    "                      ('pca', PCA(n_components=5)),\n",
    "                      ('estimator', LogisticRegression())])\n",
    "\n",
    "pipe_knc  = Pipeline([('scaler', StandardScaler(with_mean=False)),\n",
    "                      ('pca', PCA(n_components=5)),\n",
    "                      ('estimator', KNeighborsClassifier())])\n",
    "\n",
    "pipe_svc  = Pipeline([('scaler', StandardScaler(with_mean=False)),\n",
    "                      ('pca', PCA(n_components=5)),\n",
    "                      ('estimator', SVC())])\n",
    "\n",
    "pipe_rfc  = Pipeline([('scaler', StandardScaler(with_mean=False)),\n",
    "                      ('pca', PCA(n_components=5)),\n",
    "                      ('estimator', RandomForestClassifier())])\n",
    "\n",
    "tree_params = {'estimator__max_depth' : [2,3,4,5,6,7,8,9,10],\n",
    "               'estimator__max_features' : ['sqrt', 'log2', 'auto'],}\n",
    "\n",
    "logr_params = {'estimator__C' : np.logspace(-3,3,7),\n",
    "               'estimator__penalty' : ['l1', 'l2'],}\n",
    "\n",
    "knc_params  = {'estimator__n_neighbors' : [3,5,11,],}\n",
    "\n",
    "svc_params  = {'estimator__C' : np.logspace(-3,3,4),\n",
    "               'estimator__kernel' : ['rbf']}\n",
    "\n",
    "rfc_params  = {'estimator__n_estimators' : [25,50,75,100],\n",
    "               'estimator__max_features' : ['sqrt', 'auto', 'log2'],}"
   ]
  },
  {
   "cell_type": "code",
   "execution_count": 45,
   "metadata": {
    "collapsed": true
   },
   "outputs": [],
   "source": [
    "grid_tree = GridSearchCV(pipe_tree, tree_params, verbose = 10)\n",
    "grid_logr = GridSearchCV(pipe_logr, logr_params, verbose = 10)\n",
    "grid_knc  = GridSearchCV(pipe_knc, knc_params, verbose = 10)\n",
    "grid_svc  = GridSearchCV(pipe_svc, svc_params, verbose = 10)\n",
    "grid_rfc  = GridSearchCV(pipe_rfc, rfc_params, verbose = 10)"
   ]
  },
  {
   "cell_type": "code",
   "execution_count": 46,
   "metadata": {
    "collapsed": true
   },
   "outputs": [],
   "source": [
    "X_train, X_test, y_train, y_test = train_test_split(X, y, test_size = 0.33)"
   ]
  },
  {
   "cell_type": "code",
   "execution_count": 55,
   "metadata": {
    "scrolled": true
   },
   "outputs": [
    {
     "name": "stdout",
     "output_type": "stream",
     "text": [
      "Fitting 3 folds for each of 27 candidates, totalling 81 fits\n",
      "[CV] estimator__max_depth=2, estimator__max_features=sqrt ............\n",
      "[CV]  estimator__max_depth=2, estimator__max_features=sqrt, score=0.621924, total=   0.0s\n",
      "[CV] estimator__max_depth=2, estimator__max_features=sqrt ............\n",
      "[CV]  estimator__max_depth=2, estimator__max_features=sqrt, score=0.612975, total=   0.0s\n",
      "[CV] estimator__max_depth=2, estimator__max_features=sqrt ............\n",
      "[CV]  estimator__max_depth=2, estimator__max_features=sqrt, score=0.587444, total=   0.0s\n",
      "[CV] estimator__max_depth=2, estimator__max_features=log2 ............\n",
      "[CV]  estimator__max_depth=2, estimator__max_features=log2, score=0.617450, total=   0.0s\n",
      "[CV] estimator__max_depth=2, estimator__max_features=log2 ............\n",
      "[CV]  estimator__max_depth=2, estimator__max_features=log2, score=0.612975, total=   0.0s\n",
      "[CV] estimator__max_depth=2, estimator__max_features=log2 ............\n",
      "[CV]  estimator__max_depth=2, estimator__max_features=log2, score=0.585202, total=   0.0s\n",
      "[CV] estimator__max_depth=2, estimator__max_features=auto ............\n",
      "[CV]  estimator__max_depth=2, estimator__max_features=auto, score=0.599553, total=   0.0s\n",
      "[CV] estimator__max_depth=2, estimator__max_features=auto ............\n",
      "[CV]  estimator__max_depth=2, estimator__max_features=auto, score=0.559284, total=   0.0s\n",
      "[CV] estimator__max_depth=2, estimator__max_features=auto ............\n",
      "[CV]  estimator__max_depth=2, estimator__max_features=auto, score=0.569507, total=   0.0s\n",
      "[CV] estimator__max_depth=3, estimator__max_features=sqrt ............\n",
      "[CV]  estimator__max_depth=3, estimator__max_features=sqrt, score=0.635347, total=   0.0s\n",
      "[CV] estimator__max_depth=3, estimator__max_features=sqrt ............\n",
      "[CV]  estimator__max_depth=3, estimator__max_features=sqrt, score=0.662192, total=   0.0s\n",
      "[CV] estimator__max_depth=3, estimator__max_features=sqrt ............\n",
      "[CV]  estimator__max_depth=3, estimator__max_features=sqrt, score=0.607623, total=   0.0s\n",
      "[CV] estimator__max_depth=3, estimator__max_features=log2 ............\n",
      "[CV]  estimator__max_depth=3, estimator__max_features=log2, score=0.630872, total=   0.0s\n",
      "[CV] estimator__max_depth=3, estimator__max_features=log2 ............\n",
      "[CV]  estimator__max_depth=3, estimator__max_features=log2, score=0.646532, total=   0.0s\n",
      "[CV] estimator__max_depth=3, estimator__max_features=log2 ............\n",
      "[CV]  estimator__max_depth=3, estimator__max_features=log2, score=0.594170, total=   0.0s\n",
      "[CV] estimator__max_depth=3, estimator__max_features=auto ............\n",
      "[CV]  estimator__max_depth=3, estimator__max_features=auto, score=0.610738, total=   0.0s\n",
      "[CV] estimator__max_depth=3, estimator__max_features=auto ............\n",
      "[CV]  estimator__max_depth=3, estimator__max_features=auto, score=0.637584, total=   0.0s\n",
      "[CV] estimator__max_depth=3, estimator__max_features=auto ............\n",
      "[CV]  estimator__max_depth=3, estimator__max_features=auto, score=0.605381, total=   0.0s\n",
      "[CV] estimator__max_depth=4, estimator__max_features=sqrt ............\n",
      "[CV]  estimator__max_depth=4, estimator__max_features=sqrt, score=0.612975, total=   0.0s\n",
      "[CV] estimator__max_depth=4, estimator__max_features=sqrt ............\n",
      "[CV]  estimator__max_depth=4, estimator__max_features=sqrt, score=0.706935, total=   0.0s\n",
      "[CV] estimator__max_depth=4, estimator__max_features=sqrt ............\n",
      "[CV]  estimator__max_depth=4, estimator__max_features=sqrt, score=0.670404, total=   0.0s\n",
      "[CV] estimator__max_depth=4, estimator__max_features=log2 ............"
     ]
    },
    {
     "name": "stderr",
     "output_type": "stream",
     "text": [
      "[Parallel(n_jobs=1)]: Done   1 out of   1 | elapsed:    0.0s remaining:    0.0s\n",
      "[Parallel(n_jobs=1)]: Done   2 out of   2 | elapsed:    0.0s remaining:    0.0s\n",
      "[Parallel(n_jobs=1)]: Done   3 out of   3 | elapsed:    0.0s remaining:    0.0s\n",
      "[Parallel(n_jobs=1)]: Done   4 out of   4 | elapsed:    0.0s remaining:    0.0s\n",
      "[Parallel(n_jobs=1)]: Done   5 out of   5 | elapsed:    0.0s remaining:    0.0s\n",
      "[Parallel(n_jobs=1)]: Done   6 out of   6 | elapsed:    0.1s remaining:    0.0s\n",
      "[Parallel(n_jobs=1)]: Done   7 out of   7 | elapsed:    0.1s remaining:    0.0s\n",
      "[Parallel(n_jobs=1)]: Done   8 out of   8 | elapsed:    0.1s remaining:    0.0s\n",
      "[Parallel(n_jobs=1)]: Done   9 out of   9 | elapsed:    0.1s remaining:    0.0s\n"
     ]
    },
    {
     "name": "stdout",
     "output_type": "stream",
     "text": [
      "\n",
      "[CV]  estimator__max_depth=4, estimator__max_features=log2, score=0.659955, total=   0.0s\n",
      "[CV] estimator__max_depth=4, estimator__max_features=log2 ............\n",
      "[CV]  estimator__max_depth=4, estimator__max_features=log2, score=0.740492, total=   0.0s\n",
      "[CV] estimator__max_depth=4, estimator__max_features=log2 ............\n",
      "[CV]  estimator__max_depth=4, estimator__max_features=log2, score=0.663677, total=   0.0s\n",
      "[CV] estimator__max_depth=4, estimator__max_features=auto ............\n",
      "[CV]  estimator__max_depth=4, estimator__max_features=auto, score=0.648770, total=   0.0s\n",
      "[CV] estimator__max_depth=4, estimator__max_features=auto ............\n",
      "[CV]  estimator__max_depth=4, estimator__max_features=auto, score=0.655481, total=   0.0s\n",
      "[CV] estimator__max_depth=4, estimator__max_features=auto ............\n",
      "[CV]  estimator__max_depth=4, estimator__max_features=auto, score=0.679372, total=   0.0s\n",
      "[CV] estimator__max_depth=5, estimator__max_features=sqrt ............\n",
      "[CV]  estimator__max_depth=5, estimator__max_features=sqrt, score=0.704698, total=   0.0s\n",
      "[CV] estimator__max_depth=5, estimator__max_features=sqrt ............\n",
      "[CV]  estimator__max_depth=5, estimator__max_features=sqrt, score=0.742729, total=   0.0s\n",
      "[CV] estimator__max_depth=5, estimator__max_features=sqrt ............\n",
      "[CV]  estimator__max_depth=5, estimator__max_features=sqrt, score=0.728700, total=   0.0s\n",
      "[CV] estimator__max_depth=5, estimator__max_features=log2 ............\n",
      "[CV]  estimator__max_depth=5, estimator__max_features=log2, score=0.675615, total=   0.0s\n",
      "[CV] estimator__max_depth=5, estimator__max_features=log2 ............\n",
      "[CV]  estimator__max_depth=5, estimator__max_features=log2, score=0.711409, total=   0.0s\n",
      "[CV] estimator__max_depth=5, estimator__max_features=log2 ............\n",
      "[CV]  estimator__max_depth=5, estimator__max_features=log2, score=0.679372, total=   0.0s\n",
      "[CV] estimator__max_depth=5, estimator__max_features=auto ............\n",
      "[CV]  estimator__max_depth=5, estimator__max_features=auto, score=0.706935, total=   0.0s\n",
      "[CV] estimator__max_depth=5, estimator__max_features=auto ............\n",
      "[CV]  estimator__max_depth=5, estimator__max_features=auto, score=0.738255, total=   0.0s\n",
      "[CV] estimator__max_depth=5, estimator__max_features=auto ............\n",
      "[CV]  estimator__max_depth=5, estimator__max_features=auto, score=0.654709, total=   0.0s\n",
      "[CV] estimator__max_depth=6, estimator__max_features=sqrt ............\n",
      "[CV]  estimator__max_depth=6, estimator__max_features=sqrt, score=0.673378, total=   0.0s\n",
      "[CV] estimator__max_depth=6, estimator__max_features=sqrt ............\n",
      "[CV]  estimator__max_depth=6, estimator__max_features=sqrt, score=0.722595, total=   0.0s\n",
      "[CV] estimator__max_depth=6, estimator__max_features=sqrt ............\n",
      "[CV]  estimator__max_depth=6, estimator__max_features=sqrt, score=0.748879, total=   0.0s\n",
      "[CV] estimator__max_depth=6, estimator__max_features=log2 ............\n",
      "[CV]  estimator__max_depth=6, estimator__max_features=log2, score=0.684564, total=   0.0s\n",
      "[CV] estimator__max_depth=6, estimator__max_features=log2 ............\n",
      "[CV]  estimator__max_depth=6, estimator__max_features=log2, score=0.729306, total=   0.0s\n",
      "[CV] estimator__max_depth=6, estimator__max_features=log2 ............\n",
      "[CV]  estimator__max_depth=6, estimator__max_features=log2, score=0.748879, total=   0.0s\n",
      "[CV] estimator__max_depth=6, estimator__max_features=auto ............\n",
      "[CV]  estimator__max_depth=6, estimator__max_features=auto, score=0.740492, total=   0.0s\n",
      "[CV] estimator__max_depth=6, estimator__max_features=auto ............\n",
      "[CV]  estimator__max_depth=6, estimator__max_features=auto, score=0.744966, total=   0.0s\n",
      "[CV] estimator__max_depth=6, estimator__max_features=auto ............\n",
      "[CV]  estimator__max_depth=6, estimator__max_features=auto, score=0.726457, total=   0.0s\n",
      "[CV] estimator__max_depth=7, estimator__max_features=sqrt ............\n",
      "[CV]  estimator__max_depth=7, estimator__max_features=sqrt, score=0.709172, total=   0.0s\n",
      "[CV] estimator__max_depth=7, estimator__max_features=sqrt ............\n",
      "[CV]  estimator__max_depth=7, estimator__max_features=sqrt, score=0.769575, total=   0.0s\n",
      "[CV] estimator__max_depth=7, estimator__max_features=sqrt ............\n",
      "[CV]  estimator__max_depth=7, estimator__max_features=sqrt, score=0.737668, total=   0.0s\n",
      "[CV] estimator__max_depth=7, estimator__max_features=log2 ............\n",
      "[CV]  estimator__max_depth=7, estimator__max_features=log2, score=0.691275, total=   0.0s\n",
      "[CV] estimator__max_depth=7, estimator__max_features=log2 ............\n",
      "[CV]  estimator__max_depth=7, estimator__max_features=log2, score=0.753915, total=   0.0s\n",
      "[CV] estimator__max_depth=7, estimator__max_features=log2 ............\n",
      "[CV]  estimator__max_depth=7, estimator__max_features=log2, score=0.704036, total=   0.0s\n",
      "[CV] estimator__max_depth=7, estimator__max_features=auto ............\n",
      "[CV]  estimator__max_depth=7, estimator__max_features=auto, score=0.668904, total=   0.0s\n",
      "[CV] estimator__max_depth=7, estimator__max_features=auto ............\n",
      "[CV]  estimator__max_depth=7, estimator__max_features=auto, score=0.722595, total=   0.0s\n",
      "[CV] estimator__max_depth=7, estimator__max_features=auto ............\n",
      "[CV]  estimator__max_depth=7, estimator__max_features=auto, score=0.726457, total=   0.0s\n",
      "[CV] estimator__max_depth=8, estimator__max_features=sqrt ............\n",
      "[CV]  estimator__max_depth=8, estimator__max_features=sqrt, score=0.729306, total=   0.0s\n",
      "[CV] estimator__max_depth=8, estimator__max_features=sqrt ............\n",
      "[CV]  estimator__max_depth=8, estimator__max_features=sqrt, score=0.744966, total=   0.0s\n",
      "[CV] estimator__max_depth=8, estimator__max_features=sqrt ............\n",
      "[CV]  estimator__max_depth=8, estimator__max_features=sqrt, score=0.742152, total=   0.0s\n",
      "[CV] estimator__max_depth=8, estimator__max_features=log2 ............\n",
      "[CV]  estimator__max_depth=8, estimator__max_features=log2, score=0.740492, total=   0.0s\n",
      "[CV] estimator__max_depth=8, estimator__max_features=log2 ............\n",
      "[CV]  estimator__max_depth=8, estimator__max_features=log2, score=0.715884, total=   0.0s\n",
      "[CV] estimator__max_depth=8, estimator__max_features=log2 ............\n",
      "[CV]  estimator__max_depth=8, estimator__max_features=log2, score=0.739910, total=   0.0s\n",
      "[CV] estimator__max_depth=8, estimator__max_features=auto ............\n",
      "[CV]  estimator__max_depth=8, estimator__max_features=auto, score=0.702461, total=   0.0s\n",
      "[CV] estimator__max_depth=8, estimator__max_features=auto ............\n",
      "[CV]  estimator__max_depth=8, estimator__max_features=auto, score=0.731544, total=   0.0s\n",
      "[CV] estimator__max_depth=8, estimator__max_features=auto ............\n",
      "[CV]  estimator__max_depth=8, estimator__max_features=auto, score=0.735426, total=   0.0s\n",
      "[CV] estimator__max_depth=9, estimator__max_features=sqrt ............\n",
      "[CV]  estimator__max_depth=9, estimator__max_features=sqrt, score=0.736018, total=   0.0s\n",
      "[CV] estimator__max_depth=9, estimator__max_features=sqrt ............\n",
      "[CV]  estimator__max_depth=9, estimator__max_features=sqrt, score=0.736018, total=   0.0s\n",
      "[CV] estimator__max_depth=9, estimator__max_features=sqrt ............\n",
      "[CV]  estimator__max_depth=9, estimator__max_features=sqrt, score=0.733184, total=   0.0s\n",
      "[CV] estimator__max_depth=9, estimator__max_features=log2 ............\n",
      "[CV]  estimator__max_depth=9, estimator__max_features=log2, score=0.740492, total=   0.0s\n",
      "[CV] estimator__max_depth=9, estimator__max_features=log2 ............\n",
      "[CV]  estimator__max_depth=9, estimator__max_features=log2, score=0.675615, total=   0.0s\n",
      "[CV] estimator__max_depth=9, estimator__max_features=log2 ............\n",
      "[CV]  estimator__max_depth=9, estimator__max_features=log2, score=0.724215, total=   0.0s\n",
      "[CV] estimator__max_depth=9, estimator__max_features=auto ............\n",
      "[CV]  estimator__max_depth=9, estimator__max_features=auto, score=0.680089, total=   0.0s\n",
      "[CV] estimator__max_depth=9, estimator__max_features=auto ............\n",
      "[CV]  estimator__max_depth=9, estimator__max_features=auto, score=0.749441, total=   0.0s\n",
      "[CV] estimator__max_depth=9, estimator__max_features=auto ............\n",
      "[CV]  estimator__max_depth=9, estimator__max_features=auto, score=0.719731, total=   0.0s\n",
      "[CV] estimator__max_depth=10, estimator__max_features=sqrt ...........\n",
      "[CV]  estimator__max_depth=10, estimator__max_features=sqrt, score=0.740492, total=   0.0s\n",
      "[CV] estimator__max_depth=10, estimator__max_features=sqrt ...........\n",
      "[CV]  estimator__max_depth=10, estimator__max_features=sqrt, score=0.729306, total=   0.0s\n",
      "[CV] estimator__max_depth=10, estimator__max_features=sqrt ...........\n",
      "[CV]  estimator__max_depth=10, estimator__max_features=sqrt, score=0.748879, total=   0.0s\n",
      "[CV] estimator__max_depth=10, estimator__max_features=log2 ...........\n",
      "[CV]  estimator__max_depth=10, estimator__max_features=log2, score=0.722595, total=   0.0s\n",
      "[CV] estimator__max_depth=10, estimator__max_features=log2 ...........\n",
      "[CV]  estimator__max_depth=10, estimator__max_features=log2, score=0.762864, total=   0.0s\n",
      "[CV] estimator__max_depth=10, estimator__max_features=log2 ...........\n",
      "[CV]  estimator__max_depth=10, estimator__max_features=log2, score=0.744395, total=   0.0s\n",
      "[CV] estimator__max_depth=10, estimator__max_features=auto ...........\n",
      "[CV]  estimator__max_depth=10, estimator__max_features=auto, score=0.778523, total=   0.0s\n",
      "[CV] estimator__max_depth=10, estimator__max_features=auto ...........\n",
      "[CV]  estimator__max_depth=10, estimator__max_features=auto, score=0.744966, total=   0.0s\n",
      "[CV] estimator__max_depth=10, estimator__max_features=auto ...........\n",
      "[CV]  estimator__max_depth=10, estimator__max_features=auto, score=0.746637, total=   0.0s\n"
     ]
    },
    {
     "name": "stderr",
     "output_type": "stream",
     "text": [
      "[Parallel(n_jobs=1)]: Done  81 out of  81 | elapsed:    0.8s finished\n",
      "[Parallel(n_jobs=1)]: Done   1 out of   1 | elapsed:    0.0s remaining:    0.0s\n",
      "[Parallel(n_jobs=1)]: Done   2 out of   2 | elapsed:    0.0s remaining:    0.0s\n",
      "[Parallel(n_jobs=1)]: Done   3 out of   3 | elapsed:    0.0s remaining:    0.0s\n",
      "[Parallel(n_jobs=1)]: Done   4 out of   4 | elapsed:    0.0s remaining:    0.0s\n",
      "[Parallel(n_jobs=1)]: Done   5 out of   5 | elapsed:    0.0s remaining:    0.0s\n",
      "[Parallel(n_jobs=1)]: Done   6 out of   6 | elapsed:    0.1s remaining:    0.0s\n",
      "[Parallel(n_jobs=1)]: Done   7 out of   7 | elapsed:    0.1s remaining:    0.0s\n",
      "[Parallel(n_jobs=1)]: Done   8 out of   8 | elapsed:    0.1s remaining:    0.0s\n",
      "[Parallel(n_jobs=1)]: Done   9 out of   9 | elapsed:    0.1s remaining:    0.0s\n"
     ]
    },
    {
     "name": "stdout",
     "output_type": "stream",
     "text": [
      "Fitting 3 folds for each of 14 candidates, totalling 42 fits\n",
      "[CV] estimator__C=0.001, estimator__penalty=l1 .......................\n",
      "[CV]  estimator__C=0.001, estimator__penalty=l1, score=0.494407, total=   0.0s\n",
      "[CV] estimator__C=0.001, estimator__penalty=l1 .......................\n",
      "[CV]  estimator__C=0.001, estimator__penalty=l1, score=0.494407, total=   0.0s\n",
      "[CV] estimator__C=0.001, estimator__penalty=l1 .......................\n",
      "[CV]  estimator__C=0.001, estimator__penalty=l1, score=0.493274, total=   0.0s\n",
      "[CV] estimator__C=0.001, estimator__penalty=l2 .......................\n",
      "[CV]  estimator__C=0.001, estimator__penalty=l2, score=0.619687, total=   0.0s\n",
      "[CV] estimator__C=0.001, estimator__penalty=l2 .......................\n",
      "[CV]  estimator__C=0.001, estimator__penalty=l2, score=0.612975, total=   0.0s\n",
      "[CV] estimator__C=0.001, estimator__penalty=l2 .......................\n",
      "[CV]  estimator__C=0.001, estimator__penalty=l2, score=0.594170, total=   0.0s\n",
      "[CV] estimator__C=0.01, estimator__penalty=l1 ........................\n",
      "[CV]  estimator__C=0.01, estimator__penalty=l1, score=0.588367, total=   0.0s\n",
      "[CV] estimator__C=0.01, estimator__penalty=l1 ........................\n",
      "[CV]  estimator__C=0.01, estimator__penalty=l1, score=0.592841, total=   0.0s\n",
      "[CV] estimator__C=0.01, estimator__penalty=l1 ........................\n",
      "[CV]  estimator__C=0.01, estimator__penalty=l1, score=0.598655, total=   0.0s\n",
      "[CV] estimator__C=0.01, estimator__penalty=l2 ........................\n",
      "[CV]  estimator__C=0.01, estimator__penalty=l2, score=0.621924, total=   0.0s\n",
      "[CV] estimator__C=0.01, estimator__penalty=l2 ........................\n",
      "[CV]  estimator__C=0.01, estimator__penalty=l2, score=0.633110, total=   0.0s\n",
      "[CV] estimator__C=0.01, estimator__penalty=l2 ........................\n",
      "[CV]  estimator__C=0.01, estimator__penalty=l2, score=0.589686, total=   0.0s\n",
      "[CV] estimator__C=0.1, estimator__penalty=l1 .........................\n",
      "[CV]  estimator__C=0.1, estimator__penalty=l1, score=0.621924, total=   0.0s\n",
      "[CV] estimator__C=0.1, estimator__penalty=l1 .........................\n",
      "[CV]  estimator__C=0.1, estimator__penalty=l1, score=0.628635, total=   0.0s\n",
      "[CV] estimator__C=0.1, estimator__penalty=l1 .........................\n",
      "[CV]  estimator__C=0.1, estimator__penalty=l1, score=0.580717, total=   0.0s\n",
      "[CV] estimator__C=0.1, estimator__penalty=l2 .........................\n",
      "[CV]  estimator__C=0.1, estimator__penalty=l2, score=0.612975, total=   0.0s\n",
      "[CV] estimator__C=0.1, estimator__penalty=l2 .........................\n",
      "[CV]  estimator__C=0.1, estimator__penalty=l2, score=0.630872, total=   0.0s\n",
      "[CV] estimator__C=0.1, estimator__penalty=l2 .........................\n",
      "[CV]  estimator__C=0.1, estimator__penalty=l2, score=0.594170, total=   0.0s\n",
      "[CV] estimator__C=1.0, estimator__penalty=l1 .........................\n",
      "[CV]  estimator__C=1.0, estimator__penalty=l1, score=0.615213, total=   0.0s\n",
      "[CV] estimator__C=1.0, estimator__penalty=l1 .........................\n",
      "[CV]  estimator__C=1.0, estimator__penalty=l1, score=0.630872, total=   0.0s\n",
      "[CV] estimator__C=1.0, estimator__penalty=l1 .........................\n",
      "[CV]  estimator__C=1.0, estimator__penalty=l1, score=0.594170, total=   0.0s\n",
      "[CV] estimator__C=1.0, estimator__penalty=l2 .........................\n",
      "[CV]  estimator__C=1.0, estimator__penalty=l2, score=0.612975, total=   0.0s\n",
      "[CV] estimator__C=1.0, estimator__penalty=l2 .........................\n",
      "[CV]  estimator__C=1.0, estimator__penalty=l2, score=0.630872, total=   0.0s\n",
      "[CV] estimator__C=1.0, estimator__penalty=l2 .........................\n",
      "[CV]  estimator__C=1.0, estimator__penalty=l2, score=0.596413, total=   0.0s\n",
      "[CV] estimator__C=10.0, estimator__penalty=l1 ........................\n",
      "[CV]  estimator__C=10.0, estimator__penalty=l1, score=0.612975, total=   0.0s\n",
      "[CV] estimator__C=10.0, estimator__penalty=l1 ........................\n",
      "[CV]  estimator__C=10.0, estimator__penalty=l1, score=0.630872, total=   0.0s\n",
      "[CV] estimator__C=10.0, estimator__penalty=l1 ........................\n",
      "[CV]  estimator__C=10.0, estimator__penalty=l1, score=0.594170, total=   0.0s\n",
      "[CV] estimator__C=10.0, estimator__penalty=l2 ........................\n",
      "[CV]  estimator__C=10.0, estimator__penalty=l2, score=0.612975, total=   0.0s\n",
      "[CV] estimator__C=10.0, estimator__penalty=l2 ........................\n",
      "[CV]  estimator__C=10.0, estimator__penalty=l2, score=0.630872, total=   0.0s\n",
      "[CV] estimator__C=10.0, estimator__penalty=l2 ........................\n",
      "[CV]  estimator__C=10.0, estimator__penalty=l2, score=0.596413, total=   0.0s\n",
      "[CV] estimator__C=100.0, estimator__penalty=l1 .......................\n",
      "[CV]  estimator__C=100.0, estimator__penalty=l1, score=0.612975, total=   0.0s\n",
      "[CV] estimator__C=100.0, estimator__penalty=l1 .......................\n",
      "[CV]  estimator__C=100.0, estimator__penalty=l1, score=0.630872, total=   0.0s\n",
      "[CV] estimator__C=100.0, estimator__penalty=l1 .......................\n",
      "[CV]  estimator__C=100.0, estimator__penalty=l1, score=0.596413, total=   0.0s\n",
      "[CV] estimator__C=100.0, estimator__penalty=l2 .......................\n",
      "[CV]  estimator__C=100.0, estimator__penalty=l2, score=0.612975, total=   0.0s\n",
      "[CV] estimator__C=100.0, estimator__penalty=l2 .......................\n",
      "[CV]  estimator__C=100.0, estimator__penalty=l2, score=0.630872, total=   0.0s\n",
      "[CV] estimator__C=100.0, estimator__penalty=l2 .......................\n",
      "[CV]  estimator__C=100.0, estimator__penalty=l2, score=0.596413, total=   0.0s\n",
      "[CV] estimator__C=1000.0, estimator__penalty=l1 ......................\n",
      "[CV]  estimator__C=1000.0, estimator__penalty=l1, score=0.612975, total=   0.0s\n",
      "[CV] estimator__C=1000.0, estimator__penalty=l1 ......................\n",
      "[CV]  estimator__C=1000.0, estimator__penalty=l1, score=0.630872, total=   0.0s\n",
      "[CV] estimator__C=1000.0, estimator__penalty=l1 ......................\n",
      "[CV]  estimator__C=1000.0, estimator__penalty=l1, score=0.596413, total=   0.0s\n",
      "[CV] estimator__C=1000.0, estimator__penalty=l2 ......................\n",
      "[CV]  estimator__C=1000.0, estimator__penalty=l2, score=0.612975, total=   0.0s\n",
      "[CV] estimator__C=1000.0, estimator__penalty=l2 ......................\n",
      "[CV]  estimator__C=1000.0, estimator__penalty=l2, score=0.630872, total=   0.0s\n",
      "[CV] estimator__C=1000.0, estimator__penalty=l2 ......................\n",
      "[CV]  estimator__C=1000.0, estimator__penalty=l2, score=0.596413, total=   0.0s\n",
      "Fitting 3 folds for each of 3 candidates, totalling 9 fits\n",
      "[CV] estimator__n_neighbors=3 ........................................\n",
      "[CV] ......... estimator__n_neighbors=3, score=0.901566, total=   0.0s\n",
      "[CV] estimator__n_neighbors=3 ........................................\n",
      "[CV] ......... estimator__n_neighbors=3, score=0.879195, total=   0.0s\n",
      "[CV] estimator__n_neighbors=3 ........................................\n",
      "[CV] ......... estimator__n_neighbors=3, score=0.869955, total=   0.0s\n",
      "[CV] estimator__n_neighbors=5 ........................................\n",
      "[CV] ......... estimator__n_neighbors=5, score=0.906040, total=   0.0s\n",
      "[CV] estimator__n_neighbors=5 ........................................\n",
      "[CV] ......... estimator__n_neighbors=5, score=0.892617, total=   0.0s\n",
      "[CV] estimator__n_neighbors=5 ........................................\n",
      "[CV] ......... estimator__n_neighbors=5, score=0.867713, total=   0.0s\n",
      "[CV] estimator__n_neighbors=11 .......................................\n",
      "[CV] ........ estimator__n_neighbors=11, score=0.881432, total=   0.0s\n",
      "[CV] estimator__n_neighbors=11 .......................................\n",
      "[CV] ........ estimator__n_neighbors=11, score=0.870246, total=   0.0s\n",
      "[CV] estimator__n_neighbors=11 .......................................\n",
      "[CV] ........ estimator__n_neighbors=11, score=0.858744, total=   0.0s\n",
      "Fitting 3 folds for each of 4 candidates, totalling 12 fits\n",
      "[CV] estimator__C=0.001, estimator__kernel=rbf .......................\n"
     ]
    },
    {
     "name": "stderr",
     "output_type": "stream",
     "text": [
      "[Parallel(n_jobs=1)]: Done  42 out of  42 | elapsed:    0.4s finished\n",
      "[Parallel(n_jobs=1)]: Done   1 out of   1 | elapsed:    0.0s remaining:    0.0s\n",
      "[Parallel(n_jobs=1)]: Done   2 out of   2 | elapsed:    0.0s remaining:    0.0s\n",
      "[Parallel(n_jobs=1)]: Done   3 out of   3 | elapsed:    0.0s remaining:    0.0s\n",
      "[Parallel(n_jobs=1)]: Done   4 out of   4 | elapsed:    0.1s remaining:    0.0s\n",
      "[Parallel(n_jobs=1)]: Done   5 out of   5 | elapsed:    0.1s remaining:    0.0s\n",
      "[Parallel(n_jobs=1)]: Done   6 out of   6 | elapsed:    0.1s remaining:    0.0s\n",
      "[Parallel(n_jobs=1)]: Done   7 out of   7 | elapsed:    0.1s remaining:    0.0s\n",
      "[Parallel(n_jobs=1)]: Done   8 out of   8 | elapsed:    0.1s remaining:    0.0s\n",
      "[Parallel(n_jobs=1)]: Done   9 out of   9 | elapsed:    0.2s remaining:    0.0s\n",
      "[Parallel(n_jobs=1)]: Done   9 out of   9 | elapsed:    0.2s finished\n"
     ]
    },
    {
     "name": "stdout",
     "output_type": "stream",
     "text": [
      "[CV]  estimator__C=0.001, estimator__kernel=rbf, score=0.505593, total=   0.1s\n",
      "[CV] estimator__C=0.001, estimator__kernel=rbf .......................\n",
      "[CV]  estimator__C=0.001, estimator__kernel=rbf, score=0.505593, total=   0.1s\n",
      "[CV] estimator__C=0.001, estimator__kernel=rbf .......................\n",
      "[CV]  estimator__C=0.001, estimator__kernel=rbf, score=0.506726, total=   0.1s\n",
      "[CV] estimator__C=0.1, estimator__kernel=rbf .........................\n"
     ]
    },
    {
     "name": "stderr",
     "output_type": "stream",
     "text": [
      "[Parallel(n_jobs=1)]: Done   1 out of   1 | elapsed:    0.1s remaining:    0.0s\n",
      "[Parallel(n_jobs=1)]: Done   2 out of   2 | elapsed:    0.2s remaining:    0.0s\n",
      "[Parallel(n_jobs=1)]: Done   3 out of   3 | elapsed:    0.3s remaining:    0.0s\n"
     ]
    },
    {
     "name": "stdout",
     "output_type": "stream",
     "text": [
      "[CV]  estimator__C=0.1, estimator__kernel=rbf, score=0.852349, total=   0.1s\n",
      "[CV] estimator__C=0.1, estimator__kernel=rbf .........................\n",
      "[CV]  estimator__C=0.1, estimator__kernel=rbf, score=0.852349, total=   0.1s\n",
      "[CV] estimator__C=0.1, estimator__kernel=rbf .........................\n",
      "[CV]  estimator__C=0.1, estimator__kernel=rbf, score=0.831839, total=   0.1s\n",
      "[CV] estimator__C=10.0, estimator__kernel=rbf ........................\n"
     ]
    },
    {
     "name": "stderr",
     "output_type": "stream",
     "text": [
      "[Parallel(n_jobs=1)]: Done   4 out of   4 | elapsed:    0.3s remaining:    0.0s\n",
      "[Parallel(n_jobs=1)]: Done   5 out of   5 | elapsed:    0.4s remaining:    0.0s\n",
      "[Parallel(n_jobs=1)]: Done   6 out of   6 | elapsed:    0.5s remaining:    0.0s\n"
     ]
    },
    {
     "name": "stdout",
     "output_type": "stream",
     "text": [
      "[CV]  estimator__C=10.0, estimator__kernel=rbf, score=0.897092, total=   0.0s\n",
      "[CV] estimator__C=10.0, estimator__kernel=rbf ........................\n",
      "[CV]  estimator__C=10.0, estimator__kernel=rbf, score=0.863535, total=   0.0s\n",
      "[CV] estimator__C=10.0, estimator__kernel=rbf ........................\n",
      "[CV]  estimator__C=10.0, estimator__kernel=rbf, score=0.874439, total=   0.0s\n",
      "[CV] estimator__C=1000.0, estimator__kernel=rbf ......................\n",
      "[CV]  estimator__C=1000.0, estimator__kernel=rbf, score=0.876957, total=   0.0s\n",
      "[CV] estimator__C=1000.0, estimator__kernel=rbf ......................\n"
     ]
    },
    {
     "name": "stderr",
     "output_type": "stream",
     "text": [
      "[Parallel(n_jobs=1)]: Done   7 out of   7 | elapsed:    0.5s remaining:    0.0s\n",
      "[Parallel(n_jobs=1)]: Done   8 out of   8 | elapsed:    0.6s remaining:    0.0s\n",
      "[Parallel(n_jobs=1)]: Done   9 out of   9 | elapsed:    0.6s remaining:    0.0s\n"
     ]
    },
    {
     "name": "stdout",
     "output_type": "stream",
     "text": [
      "[CV]  estimator__C=1000.0, estimator__kernel=rbf, score=0.841163, total=   0.0s\n",
      "[CV] estimator__C=1000.0, estimator__kernel=rbf ......................\n",
      "[CV]  estimator__C=1000.0, estimator__kernel=rbf, score=0.852018, total=   0.0s\n",
      "Fitting 3 folds for each of 12 candidates, totalling 36 fits\n",
      "[CV] estimator__max_features=sqrt, estimator__n_estimators=25 ........\n",
      "[CV]  estimator__max_features=sqrt, estimator__n_estimators=25, score=0.845638, total=   0.1s\n",
      "[CV] estimator__max_features=sqrt, estimator__n_estimators=25 ........\n"
     ]
    },
    {
     "name": "stderr",
     "output_type": "stream",
     "text": [
      "[Parallel(n_jobs=1)]: Done  12 out of  12 | elapsed:    0.8s finished\n",
      "[Parallel(n_jobs=1)]: Done   1 out of   1 | elapsed:    0.1s remaining:    0.0s\n"
     ]
    },
    {
     "name": "stdout",
     "output_type": "stream",
     "text": [
      "[CV]  estimator__max_features=sqrt, estimator__n_estimators=25, score=0.845638, total=   0.1s\n",
      "[CV] estimator__max_features=sqrt, estimator__n_estimators=25 ........\n",
      "[CV]  estimator__max_features=sqrt, estimator__n_estimators=25, score=0.838565, total=   0.1s\n",
      "[CV] estimator__max_features=sqrt, estimator__n_estimators=50 ........\n"
     ]
    },
    {
     "name": "stderr",
     "output_type": "stream",
     "text": [
      "[Parallel(n_jobs=1)]: Done   2 out of   2 | elapsed:    0.2s remaining:    0.0s\n",
      "[Parallel(n_jobs=1)]: Done   3 out of   3 | elapsed:    0.2s remaining:    0.0s\n"
     ]
    },
    {
     "name": "stdout",
     "output_type": "stream",
     "text": [
      "[CV]  estimator__max_features=sqrt, estimator__n_estimators=50, score=0.829978, total=   0.1s\n",
      "[CV] estimator__max_features=sqrt, estimator__n_estimators=50 ........\n",
      "[CV]  estimator__max_features=sqrt, estimator__n_estimators=50, score=0.843400, total=   0.1s\n",
      "[CV] estimator__max_features=sqrt, estimator__n_estimators=50 ........\n"
     ]
    },
    {
     "name": "stderr",
     "output_type": "stream",
     "text": [
      "[Parallel(n_jobs=1)]: Done   4 out of   4 | elapsed:    0.4s remaining:    0.0s\n",
      "[Parallel(n_jobs=1)]: Done   5 out of   5 | elapsed:    0.5s remaining:    0.0s\n"
     ]
    },
    {
     "name": "stdout",
     "output_type": "stream",
     "text": [
      "[CV]  estimator__max_features=sqrt, estimator__n_estimators=50, score=0.845291, total=   0.1s\n",
      "[CV] estimator__max_features=sqrt, estimator__n_estimators=75 ........\n"
     ]
    },
    {
     "name": "stderr",
     "output_type": "stream",
     "text": [
      "[Parallel(n_jobs=1)]: Done   6 out of   6 | elapsed:    0.6s remaining:    0.0s\n"
     ]
    },
    {
     "name": "stdout",
     "output_type": "stream",
     "text": [
      "[CV]  estimator__max_features=sqrt, estimator__n_estimators=75, score=0.845638, total=   0.2s\n",
      "[CV] estimator__max_features=sqrt, estimator__n_estimators=75 ........\n",
      "[CV]  estimator__max_features=sqrt, estimator__n_estimators=75, score=0.829978, total=   0.2s\n",
      "[CV] estimator__max_features=sqrt, estimator__n_estimators=75 ........\n"
     ]
    },
    {
     "name": "stderr",
     "output_type": "stream",
     "text": [
      "[Parallel(n_jobs=1)]: Done   7 out of   7 | elapsed:    0.8s remaining:    0.0s\n",
      "[Parallel(n_jobs=1)]: Done   8 out of   8 | elapsed:    1.0s remaining:    0.0s\n",
      "[Parallel(n_jobs=1)]: Done   9 out of   9 | elapsed:    1.2s remaining:    0.0s\n"
     ]
    },
    {
     "name": "stdout",
     "output_type": "stream",
     "text": [
      "[CV]  estimator__max_features=sqrt, estimator__n_estimators=75, score=0.840807, total=   0.2s\n",
      "[CV] estimator__max_features=sqrt, estimator__n_estimators=100 .......\n",
      "[CV]  estimator__max_features=sqrt, estimator__n_estimators=100, score=0.856823, total=   0.2s\n",
      "[CV] estimator__max_features=sqrt, estimator__n_estimators=100 .......\n",
      "[CV]  estimator__max_features=sqrt, estimator__n_estimators=100, score=0.845638, total=   0.2s\n",
      "[CV] estimator__max_features=sqrt, estimator__n_estimators=100 .......\n",
      "[CV]  estimator__max_features=sqrt, estimator__n_estimators=100, score=0.840807, total=   0.2s\n",
      "[CV] estimator__max_features=auto, estimator__n_estimators=25 ........\n",
      "[CV]  estimator__max_features=auto, estimator__n_estimators=25, score=0.827740, total=   0.1s\n",
      "[CV] estimator__max_features=auto, estimator__n_estimators=25 ........\n",
      "[CV]  estimator__max_features=auto, estimator__n_estimators=25, score=0.829978, total=   0.1s\n",
      "[CV] estimator__max_features=auto, estimator__n_estimators=25 ........\n",
      "[CV]  estimator__max_features=auto, estimator__n_estimators=25, score=0.831839, total=   0.1s\n",
      "[CV] estimator__max_features=auto, estimator__n_estimators=50 ........\n",
      "[CV]  estimator__max_features=auto, estimator__n_estimators=50, score=0.859060, total=   0.1s\n",
      "[CV] estimator__max_features=auto, estimator__n_estimators=50 ........\n",
      "[CV]  estimator__max_features=auto, estimator__n_estimators=50, score=0.836689, total=   0.1s\n",
      "[CV] estimator__max_features=auto, estimator__n_estimators=50 ........\n",
      "[CV]  estimator__max_features=auto, estimator__n_estimators=50, score=0.825112, total=   0.1s\n",
      "[CV] estimator__max_features=auto, estimator__n_estimators=75 ........\n",
      "[CV]  estimator__max_features=auto, estimator__n_estimators=75, score=0.834452, total=   0.2s\n",
      "[CV] estimator__max_features=auto, estimator__n_estimators=75 ........\n",
      "[CV]  estimator__max_features=auto, estimator__n_estimators=75, score=0.836689, total=   0.2s\n",
      "[CV] estimator__max_features=auto, estimator__n_estimators=75 ........\n",
      "[CV]  estimator__max_features=auto, estimator__n_estimators=75, score=0.849776, total=   0.2s\n",
      "[CV] estimator__max_features=auto, estimator__n_estimators=100 .......\n",
      "[CV]  estimator__max_features=auto, estimator__n_estimators=100, score=0.852349, total=   0.3s\n",
      "[CV] estimator__max_features=auto, estimator__n_estimators=100 .......\n",
      "[CV]  estimator__max_features=auto, estimator__n_estimators=100, score=0.843400, total=   0.2s\n",
      "[CV] estimator__max_features=auto, estimator__n_estimators=100 .......\n",
      "[CV]  estimator__max_features=auto, estimator__n_estimators=100, score=0.847534, total=   0.2s\n",
      "[CV] estimator__max_features=log2, estimator__n_estimators=25 ........\n",
      "[CV]  estimator__max_features=log2, estimator__n_estimators=25, score=0.832215, total=   0.1s\n",
      "[CV] estimator__max_features=log2, estimator__n_estimators=25 ........\n",
      "[CV]  estimator__max_features=log2, estimator__n_estimators=25, score=0.838926, total=   0.1s\n",
      "[CV] estimator__max_features=log2, estimator__n_estimators=25 ........\n",
      "[CV]  estimator__max_features=log2, estimator__n_estimators=25, score=0.856502, total=   0.1s\n",
      "[CV] estimator__max_features=log2, estimator__n_estimators=50 ........\n",
      "[CV]  estimator__max_features=log2, estimator__n_estimators=50, score=0.850112, total=   0.1s\n",
      "[CV] estimator__max_features=log2, estimator__n_estimators=50 ........\n",
      "[CV]  estimator__max_features=log2, estimator__n_estimators=50, score=0.859060, total=   0.1s\n",
      "[CV] estimator__max_features=log2, estimator__n_estimators=50 ........\n",
      "[CV]  estimator__max_features=log2, estimator__n_estimators=50, score=0.829596, total=   0.1s\n",
      "[CV] estimator__max_features=log2, estimator__n_estimators=75 ........\n",
      "[CV]  estimator__max_features=log2, estimator__n_estimators=75, score=0.863535, total=   0.2s\n",
      "[CV] estimator__max_features=log2, estimator__n_estimators=75 ........\n",
      "[CV]  estimator__max_features=log2, estimator__n_estimators=75, score=0.832215, total=   0.2s\n",
      "[CV] estimator__max_features=log2, estimator__n_estimators=75 ........\n",
      "[CV]  estimator__max_features=log2, estimator__n_estimators=75, score=0.849776, total=   0.2s\n",
      "[CV] estimator__max_features=log2, estimator__n_estimators=100 .......\n",
      "[CV]  estimator__max_features=log2, estimator__n_estimators=100, score=0.847875, total=   0.2s\n",
      "[CV] estimator__max_features=log2, estimator__n_estimators=100 .......\n",
      "[CV]  estimator__max_features=log2, estimator__n_estimators=100, score=0.832215, total=   0.2s\n",
      "[CV] estimator__max_features=log2, estimator__n_estimators=100 .......\n",
      "[CV]  estimator__max_features=log2, estimator__n_estimators=100, score=0.840807, total=   0.2s\n"
     ]
    },
    {
     "name": "stderr",
     "output_type": "stream",
     "text": [
      "[Parallel(n_jobs=1)]: Done  36 out of  36 | elapsed:    6.0s finished\n"
     ]
    },
    {
     "data": {
      "text/plain": [
       "GridSearchCV(cv=None, error_score='raise',\n",
       "       estimator=Pipeline(steps=[('scaler', StandardScaler(copy=True, with_mean=False, with_std=True)), ('pca', PCA(copy=True, iterated_power='auto', n_components=5, random_state=None,\n",
       "  svd_solver='auto', tol=0.0, whiten=False)), ('estimator', RandomForestClassifier(bootstrap=True, class_weight=None, criterion='gini',\n",
       "     ...imators=10, n_jobs=1, oob_score=False, random_state=None,\n",
       "            verbose=0, warm_start=False))]),\n",
       "       fit_params={}, iid=True, n_jobs=1,\n",
       "       param_grid={'estimator__n_estimators': [25, 50, 75, 100], 'estimator__max_features': ['sqrt', 'auto', 'log2']},\n",
       "       pre_dispatch='2*n_jobs', refit=True, return_train_score=True,\n",
       "       scoring=None, verbose=10)"
      ]
     },
     "execution_count": 55,
     "metadata": {},
     "output_type": "execute_result"
    }
   ],
   "source": [
    "uci_grid_tree = grid_tree.fit(X_train, y_train)\n",
    "uci_grid_logr = grid_logr.fit(X_train, y_train)\n",
    "uci_grid_knc  = grid_knc.fit(X_train, y_train)\n",
    "uci_grid_svc  = grid_svc.fit(X_train, y_train)\n",
    "uci_grid_rfc  = grid_rfc.fit(X_train, y_train)\n",
    "\n",
    "uci_grid_tree \n",
    "uci_grid_logr \n",
    "uci_grid_knc  \n",
    "uci_grid_svc  \n",
    "uci_grid_rfc  "
   ]
  },
  {
   "cell_type": "code",
   "execution_count": 58,
   "metadata": {
    "collapsed": true
   },
   "outputs": [],
   "source": [
    "grid_logr_train_score_uci = uci_grid_logr.score(X_train, y_train)\n",
    "grid_logr_test_score_uci  = uci_grid_logr.score(X_test, y_test)\n",
    "\n",
    "grid_tree_train_score_uci = uci_grid_tree.score(X_train, y_train)\n",
    "grid_tree_test_score_uci  = uci_grid_tree.score(X_test, y_test)\n",
    "\n",
    "grid_knc_train_score_uci  = uci_grid_knc.score(X_train, y_train)\n",
    "grid_knc_test_score_uci   = uci_grid_knc.score(X_test, y_test)\n",
    "\n",
    "grid_svc_train_score_uci  = uci_grid_svc.score(X_train, y_train)\n",
    "grid_svc_test_score_uci   = uci_grid_svc.score(X_test, y_test)\n",
    "\n",
    "grid_rfc_train_score_uci  = uci_grid_rfc.score(X_train, y_train)\n",
    "grid_rfc_test_score_uci   = uci_grid_rfc.score(X_test, y_test)"
   ]
  },
  {
   "cell_type": "code",
   "execution_count": 59,
   "metadata": {
    "collapsed": true
   },
   "outputs": [],
   "source": [
    "uci_grid_results = []\n",
    "\n",
    "uci_grid_results.append({'model': 'LogisticRegressionGrid',\n",
    "                         'dataset' : 'train',\n",
    "                         'preprocessing': 'scaled, PCA',\n",
    "                         'score': grid_logr_train_score_uci})\n",
    "\n",
    "uci_grid_results.append({'model': 'LogisticRegressionGrid',\n",
    "                         'dataset' : 'test',\n",
    "                         'preprocessing': 'scaled, PCA',\n",
    "                         'score': grid_logr_test_score_uci})\n",
    "\n",
    "uci_grid_results.append({'model': 'DecisionTreeClassifierGrid',\n",
    "                         'dataset' : 'train',\n",
    "                         'preprocessing': 'scaled, PCA',\n",
    "                         'score': grid_tree_train_score_uci})\n",
    "\n",
    "uci_grid_results.append({'model': 'DecisionTreeClassifierGrid',\n",
    "                         'dataset' : 'test',\n",
    "                         'preprocessing': 'scaled, PCA',\n",
    "                         'score': grid_tree_test_score_uci})\n",
    "\n",
    "uci_grid_results.append({'model': 'KNeighborsClassifierGrid',\n",
    "                         'dataset' : 'train',\n",
    "                         'preprocessing': 'scaled, PCA',\n",
    "                         'score': grid_knc_train_score_uci})\n",
    "\n",
    "uci_grid_results.append({'model': 'KNeighborsClassifierGrid',\n",
    "                         'dataset' : 'test',\n",
    "                         'preprocessing': 'scaled, PCA',\n",
    "                         'score': grid_knc_test_score_uci})\n",
    "\n",
    "uci_grid_results.append({'model': 'SVCGrid',\n",
    "                         'dataset' : 'train',\n",
    "                         'preprocessing': 'scaled, PCA',\n",
    "                         'score': grid_svc_train_score_uci})\n",
    "\n",
    "uci_grid_results.append({'model': 'SVCGrid',\n",
    "                         'dataset' : 'test',\n",
    "                         'preprocessing': 'scaled, PCA',\n",
    "                         'score': grid_svc_test_score_uci})\n",
    "\n",
    "uci_grid_results.append({'model': 'RandomForestClassifierGrid',\n",
    "                         'dataset' : 'train',\n",
    "                         'preprocessing': 'scaled, PCA',\n",
    "                         'score': grid_rfc_train_score_uci})\n",
    "\n",
    "uci_grid_results.append({'model': 'RandomForestClassifierGrid',\n",
    "                         'dataset' : 'test',\n",
    "                         'preprocessing': 'scaled, PCA',\n",
    "                         'score': grid_rfc_test_score_uci})"
   ]
  },
  {
   "cell_type": "code",
   "execution_count": 60,
   "metadata": {},
   "outputs": [
    {
     "data": {
      "text/html": [
       "<div>\n",
       "<table border=\"1\" class=\"dataframe\">\n",
       "  <thead>\n",
       "    <tr style=\"text-align: right;\">\n",
       "      <th></th>\n",
       "      <th>dataset</th>\n",
       "      <th>model</th>\n",
       "      <th>preprocessing</th>\n",
       "      <th>score</th>\n",
       "    </tr>\n",
       "  </thead>\n",
       "  <tbody>\n",
       "    <tr>\n",
       "      <th>0</th>\n",
       "      <td>train</td>\n",
       "      <td>LogisticRegressionGrid</td>\n",
       "      <td>scaled, PCA</td>\n",
       "      <td>0.614925</td>\n",
       "    </tr>\n",
       "    <tr>\n",
       "      <th>1</th>\n",
       "      <td>test</td>\n",
       "      <td>LogisticRegressionGrid</td>\n",
       "      <td>scaled, PCA</td>\n",
       "      <td>0.587879</td>\n",
       "    </tr>\n",
       "    <tr>\n",
       "      <th>2</th>\n",
       "      <td>train</td>\n",
       "      <td>DecisionTreeClassifierGrid</td>\n",
       "      <td>scaled, PCA</td>\n",
       "      <td>0.954478</td>\n",
       "    </tr>\n",
       "    <tr>\n",
       "      <th>3</th>\n",
       "      <td>test</td>\n",
       "      <td>DecisionTreeClassifierGrid</td>\n",
       "      <td>scaled, PCA</td>\n",
       "      <td>0.750000</td>\n",
       "    </tr>\n",
       "    <tr>\n",
       "      <th>4</th>\n",
       "      <td>train</td>\n",
       "      <td>KNeighborsClassifierGrid</td>\n",
       "      <td>scaled, PCA</td>\n",
       "      <td>0.931343</td>\n",
       "    </tr>\n",
       "    <tr>\n",
       "      <th>5</th>\n",
       "      <td>test</td>\n",
       "      <td>KNeighborsClassifierGrid</td>\n",
       "      <td>scaled, PCA</td>\n",
       "      <td>0.887879</td>\n",
       "    </tr>\n",
       "    <tr>\n",
       "      <th>6</th>\n",
       "      <td>train</td>\n",
       "      <td>SVCGrid</td>\n",
       "      <td>scaled, PCA</td>\n",
       "      <td>0.979851</td>\n",
       "    </tr>\n",
       "    <tr>\n",
       "      <th>7</th>\n",
       "      <td>test</td>\n",
       "      <td>SVCGrid</td>\n",
       "      <td>scaled, PCA</td>\n",
       "      <td>0.884848</td>\n",
       "    </tr>\n",
       "    <tr>\n",
       "      <th>8</th>\n",
       "      <td>train</td>\n",
       "      <td>RandomForestClassifierGrid</td>\n",
       "      <td>scaled, PCA</td>\n",
       "      <td>1.000000</td>\n",
       "    </tr>\n",
       "    <tr>\n",
       "      <th>9</th>\n",
       "      <td>test</td>\n",
       "      <td>RandomForestClassifierGrid</td>\n",
       "      <td>scaled, PCA</td>\n",
       "      <td>0.862121</td>\n",
       "    </tr>\n",
       "  </tbody>\n",
       "</table>\n",
       "</div>"
      ],
      "text/plain": [
       "  dataset                       model preprocessing     score\n",
       "0   train      LogisticRegressionGrid   scaled, PCA  0.614925\n",
       "1    test      LogisticRegressionGrid   scaled, PCA  0.587879\n",
       "2   train  DecisionTreeClassifierGrid   scaled, PCA  0.954478\n",
       "3    test  DecisionTreeClassifierGrid   scaled, PCA  0.750000\n",
       "4   train    KNeighborsClassifierGrid   scaled, PCA  0.931343\n",
       "5    test    KNeighborsClassifierGrid   scaled, PCA  0.887879\n",
       "6   train                     SVCGrid   scaled, PCA  0.979851\n",
       "7    test                     SVCGrid   scaled, PCA  0.884848\n",
       "8   train  RandomForestClassifierGrid   scaled, PCA  1.000000\n",
       "9    test  RandomForestClassifierGrid   scaled, PCA  0.862121"
      ]
     },
     "execution_count": 60,
     "metadata": {},
     "output_type": "execute_result"
    }
   ],
   "source": [
    "uci_grid_results_df = pd.DataFrame(uci_grid_results)\n",
    "uci_grid_results_df"
   ]
  },
  {
   "cell_type": "markdown",
   "metadata": {
    "collapsed": true
   },
   "source": [
    "## Fitting Models on Josh's"
   ]
  },
  {
   "cell_type": "code",
   "execution_count": 61,
   "metadata": {
    "collapsed": true
   },
   "outputs": [],
   "source": [
    "j_madelon = joblib.load('./pickles/j_madelon1.pkl')"
   ]
  },
  {
   "cell_type": "code",
   "execution_count": 62,
   "metadata": {
    "collapsed": true
   },
   "outputs": [],
   "source": [
    "j_madelon = j_madelon.drop(['_id'], axis = 1)"
   ]
  },
  {
   "cell_type": "code",
   "execution_count": 63,
   "metadata": {
    "collapsed": true
   },
   "outputs": [],
   "source": [
    "j_feats = joblib.load('./pickles/josh_feats.pkl')"
   ]
  },
  {
   "cell_type": "code",
   "execution_count": 64,
   "metadata": {
    "collapsed": true
   },
   "outputs": [],
   "source": [
    "j_mad_feats = j_madelon[j_feats]"
   ]
  },
  {
   "cell_type": "code",
   "execution_count": 65,
   "metadata": {
    "collapsed": true
   },
   "outputs": [],
   "source": [
    "Xj = j_mad_feats\n",
    "yj = j_madelon['target']"
   ]
  },
  {
   "cell_type": "code",
   "execution_count": 66,
   "metadata": {
    "collapsed": true
   },
   "outputs": [],
   "source": [
    "X_train_j, X_test_j, y_train_j, y_test_j = train_test_split(Xj, yj, test_size = 0.33)"
   ]
  },
  {
   "cell_type": "code",
   "execution_count": 67,
   "metadata": {},
   "outputs": [
    {
     "name": "stdout",
     "output_type": "stream",
     "text": [
      "Fitting 3 folds for each of 27 candidates, totalling 81 fits\n",
      "[CV] estimator__max_depth=2, estimator__max_features=sqrt ............\n",
      "[CV]  estimator__max_depth=2, estimator__max_features=sqrt, score=0.602194, total=   0.0s\n",
      "[CV] estimator__max_depth=2, estimator__max_features=sqrt ............\n",
      "[CV]  estimator__max_depth=2, estimator__max_features=sqrt, score=0.601746, total=   0.0s\n",
      "[CV] estimator__max_depth=2, estimator__max_features=sqrt ............\n",
      "[CV]  estimator__max_depth=2, estimator__max_features=sqrt, score=0.607703, total=   0.0s\n",
      "[CV] estimator__max_depth=2, estimator__max_features=log2 ............\n",
      "[CV]  estimator__max_depth=2, estimator__max_features=log2, score=0.599955, total=   0.0s\n",
      "[CV] estimator__max_depth=2, estimator__max_features=log2 ............\n",
      "[CV]  estimator__max_depth=2, estimator__max_features=log2, score=0.609358, total=   0.0s\n",
      "[CV] estimator__max_depth=2, estimator__max_features=log2 ............\n"
     ]
    },
    {
     "name": "stderr",
     "output_type": "stream",
     "text": [
      "[Parallel(n_jobs=1)]: Done   1 out of   1 | elapsed:    0.0s remaining:    0.0s\n",
      "[Parallel(n_jobs=1)]: Done   2 out of   2 | elapsed:    0.1s remaining:    0.0s\n",
      "[Parallel(n_jobs=1)]: Done   3 out of   3 | elapsed:    0.1s remaining:    0.0s\n",
      "[Parallel(n_jobs=1)]: Done   4 out of   4 | elapsed:    0.2s remaining:    0.0s\n",
      "[Parallel(n_jobs=1)]: Done   5 out of   5 | elapsed:    0.2s remaining:    0.0s\n",
      "[Parallel(n_jobs=1)]: Done   6 out of   6 | elapsed:    0.2s remaining:    0.0s\n"
     ]
    },
    {
     "name": "stdout",
     "output_type": "stream",
     "text": [
      "[CV]  estimator__max_depth=2, estimator__max_features=log2, score=0.593596, total=   0.0s\n",
      "[CV] estimator__max_depth=2, estimator__max_features=auto ............\n",
      "[CV]  estimator__max_depth=2, estimator__max_features=auto, score=0.599955, total=   0.0s\n",
      "[CV] estimator__max_depth=2, estimator__max_features=auto ............\n",
      "[CV]  estimator__max_depth=2, estimator__max_features=auto, score=0.630177, total=   0.0s\n",
      "[CV] estimator__max_depth=2, estimator__max_features=auto ............\n",
      "[CV]  estimator__max_depth=2, estimator__max_features=auto, score=0.603448, total=   0.0s\n",
      "[CV] estimator__max_depth=3, estimator__max_features=sqrt ............\n",
      "[CV]  estimator__max_depth=3, estimator__max_features=sqrt, score=0.622565, total=   0.0s\n",
      "[CV] estimator__max_depth=3, estimator__max_features=sqrt ............\n",
      "[CV]  estimator__max_depth=3, estimator__max_features=sqrt, score=0.628834, total=   0.0s\n",
      "[CV] estimator__max_depth=3, estimator__max_features=sqrt ............\n"
     ]
    },
    {
     "name": "stderr",
     "output_type": "stream",
     "text": [
      "[Parallel(n_jobs=1)]: Done   7 out of   7 | elapsed:    0.3s remaining:    0.0s\n",
      "[Parallel(n_jobs=1)]: Done   8 out of   8 | elapsed:    0.3s remaining:    0.0s\n",
      "[Parallel(n_jobs=1)]: Done   9 out of   9 | elapsed:    0.3s remaining:    0.0s\n"
     ]
    },
    {
     "name": "stdout",
     "output_type": "stream",
     "text": [
      "[CV]  estimator__max_depth=3, estimator__max_features=sqrt, score=0.640618, total=   0.0s\n",
      "[CV] estimator__max_depth=3, estimator__max_features=log2 ............\n",
      "[CV]  estimator__max_depth=3, estimator__max_features=log2, score=0.632639, total=   0.0s\n",
      "[CV] estimator__max_depth=3, estimator__max_features=log2 ............\n",
      "[CV]  estimator__max_depth=3, estimator__max_features=log2, score=0.628162, total=   0.0s\n",
      "[CV] estimator__max_depth=3, estimator__max_features=log2 ............\n",
      "[CV]  estimator__max_depth=3, estimator__max_features=log2, score=0.663905, total=   0.0s\n",
      "[CV] estimator__max_depth=3, estimator__max_features=auto ............\n",
      "[CV]  estimator__max_depth=3, estimator__max_features=auto, score=0.622789, total=   0.0s\n",
      "[CV] estimator__max_depth=3, estimator__max_features=auto ............\n",
      "[CV]  estimator__max_depth=3, estimator__max_features=auto, score=0.618984, total=   0.0s\n",
      "[CV] estimator__max_depth=3, estimator__max_features=auto ............\n",
      "[CV]  estimator__max_depth=3, estimator__max_features=auto, score=0.649127, total=   0.0s\n",
      "[CV] estimator__max_depth=4, estimator__max_features=sqrt ............\n",
      "[CV]  estimator__max_depth=4, estimator__max_features=sqrt, score=0.673383, total=   0.0s\n",
      "[CV] estimator__max_depth=4, estimator__max_features=sqrt ............\n",
      "[CV]  estimator__max_depth=4, estimator__max_features=sqrt, score=0.657712, total=   0.0s\n",
      "[CV] estimator__max_depth=4, estimator__max_features=sqrt ............\n",
      "[CV]  estimator__max_depth=4, estimator__max_features=sqrt, score=0.650694, total=   0.0s\n",
      "[CV] estimator__max_depth=4, estimator__max_features=log2 ............\n",
      "[CV]  estimator__max_depth=4, estimator__max_features=log2, score=0.659279, total=   0.0s\n",
      "[CV] estimator__max_depth=4, estimator__max_features=log2 ............\n",
      "[CV]  estimator__max_depth=4, estimator__max_features=log2, score=0.630177, total=   0.0s\n",
      "[CV] estimator__max_depth=4, estimator__max_features=log2 ............\n",
      "[CV]  estimator__max_depth=4, estimator__max_features=log2, score=0.638379, total=   0.0s\n",
      "[CV] estimator__max_depth=4, estimator__max_features=auto ............\n",
      "[CV]  estimator__max_depth=4, estimator__max_features=auto, score=0.645623, total=   0.0s\n",
      "[CV] estimator__max_depth=4, estimator__max_features=auto ............\n",
      "[CV]  estimator__max_depth=4, estimator__max_features=auto, score=0.669129, total=   0.0s\n",
      "[CV] estimator__max_depth=4, estimator__max_features=auto ............\n",
      "[CV]  estimator__max_depth=4, estimator__max_features=auto, score=0.655620, total=   0.0s\n",
      "[CV] estimator__max_depth=5, estimator__max_features=sqrt ............\n",
      "[CV]  estimator__max_depth=5, estimator__max_features=sqrt, score=0.647638, total=   0.0s\n",
      "[CV] estimator__max_depth=5, estimator__max_features=sqrt ............\n",
      "[CV]  estimator__max_depth=5, estimator__max_features=sqrt, score=0.661966, total=   0.0s\n",
      "[CV] estimator__max_depth=5, estimator__max_features=sqrt ............\n",
      "[CV]  estimator__max_depth=5, estimator__max_features=sqrt, score=0.658979, total=   0.0s\n",
      "[CV] estimator__max_depth=5, estimator__max_features=log2 ............\n",
      "[CV]  estimator__max_depth=5, estimator__max_features=log2, score=0.665771, total=   0.0s\n",
      "[CV] estimator__max_depth=5, estimator__max_features=log2 ............\n",
      "[CV]  estimator__max_depth=5, estimator__max_features=log2, score=0.654578, total=   0.0s\n",
      "[CV] estimator__max_depth=5, estimator__max_features=log2 ............\n",
      "[CV]  estimator__max_depth=5, estimator__max_features=log2, score=0.668159, total=   0.0s\n",
      "[CV] estimator__max_depth=5, estimator__max_features=auto ............\n",
      "[CV]  estimator__max_depth=5, estimator__max_features=auto, score=0.642713, total=   0.0s\n",
      "[CV] estimator__max_depth=5, estimator__max_features=auto ............\n",
      "[CV]  estimator__max_depth=5, estimator__max_features=auto, score=0.690844, total=   0.0s\n",
      "[CV] estimator__max_depth=5, estimator__max_features=auto ............\n",
      "[CV]  estimator__max_depth=5, estimator__max_features=auto, score=0.678459, total=   0.0s\n",
      "[CV] estimator__max_depth=6, estimator__max_features=sqrt ............\n",
      "[CV]  estimator__max_depth=6, estimator__max_features=sqrt, score=0.665995, total=   0.0s\n",
      "[CV] estimator__max_depth=6, estimator__max_features=sqrt ............\n",
      "[CV]  estimator__max_depth=6, estimator__max_features=sqrt, score=0.706514, total=   0.0s\n",
      "[CV] estimator__max_depth=6, estimator__max_features=sqrt ............\n",
      "[CV]  estimator__max_depth=6, estimator__max_features=sqrt, score=0.691223, total=   0.0s\n",
      "[CV] estimator__max_depth=6, estimator__max_features=log2 ............\n",
      "[CV]  estimator__max_depth=6, estimator__max_features=log2, score=0.678755, total=   0.0s\n",
      "[CV] estimator__max_depth=6, estimator__max_features=log2 ............\n",
      "[CV]  estimator__max_depth=6, estimator__max_features=log2, score=0.690396, total=   0.0s\n",
      "[CV] estimator__max_depth=6, estimator__max_features=log2 ............\n",
      "[CV]  estimator__max_depth=6, estimator__max_features=log2, score=0.677564, total=   0.0s\n",
      "[CV] estimator__max_depth=6, estimator__max_features=auto ............\n",
      "[CV]  estimator__max_depth=6, estimator__max_features=auto, score=0.671816, total=   0.0s\n",
      "[CV] estimator__max_depth=6, estimator__max_features=auto ............\n",
      "[CV]  estimator__max_depth=6, estimator__max_features=auto, score=0.704276, total=   0.0s\n",
      "[CV] estimator__max_depth=6, estimator__max_features=auto ............\n",
      "[CV]  estimator__max_depth=6, estimator__max_features=auto, score=0.667488, total=   0.0s\n",
      "[CV] estimator__max_depth=7, estimator__max_features=sqrt ............\n",
      "[CV]  estimator__max_depth=7, estimator__max_features=sqrt, score=0.695993, total=   0.0s\n",
      "[CV] estimator__max_depth=7, estimator__max_features=sqrt ............\n",
      "[CV]  estimator__max_depth=7, estimator__max_features=sqrt, score=0.708305, total=   0.0s\n",
      "[CV] estimator__max_depth=7, estimator__max_features=sqrt ............\n",
      "[CV]  estimator__max_depth=7, estimator__max_features=sqrt, score=0.700403, total=   0.0s\n",
      "[CV] estimator__max_depth=7, estimator__max_features=log2 ............\n",
      "[CV]  estimator__max_depth=7, estimator__max_features=log2, score=0.683233, total=   0.0s\n",
      "[CV] estimator__max_depth=7, estimator__max_features=log2 ............\n",
      "[CV]  estimator__max_depth=7, estimator__max_features=log2, score=0.683680, total=   0.0s\n",
      "[CV] estimator__max_depth=7, estimator__max_features=log2 ............\n",
      "[CV]  estimator__max_depth=7, estimator__max_features=log2, score=0.692342, total=   0.0s\n",
      "[CV] estimator__max_depth=7, estimator__max_features=auto ............\n",
      "[CV]  estimator__max_depth=7, estimator__max_features=auto, score=0.701589, total=   0.0s\n",
      "[CV] estimator__max_depth=7, estimator__max_features=auto ............\n",
      "[CV]  estimator__max_depth=7, estimator__max_features=auto, score=0.680770, total=   0.0s\n",
      "[CV] estimator__max_depth=7, estimator__max_features=auto ............\n",
      "[CV]  estimator__max_depth=7, estimator__max_features=auto, score=0.683833, total=   0.0s\n",
      "[CV] estimator__max_depth=8, estimator__max_features=sqrt ............\n",
      "[CV]  estimator__max_depth=8, estimator__max_features=sqrt, score=0.700246, total=   0.0s\n",
      "[CV] estimator__max_depth=8, estimator__max_features=sqrt ............\n",
      "[CV]  estimator__max_depth=8, estimator__max_features=sqrt, score=0.716141, total=   0.0s\n",
      "[CV] estimator__max_depth=8, estimator__max_features=sqrt ............\n",
      "[CV]  estimator__max_depth=8, estimator__max_features=sqrt, score=0.696597, total=   0.0s\n",
      "[CV] estimator__max_depth=8, estimator__max_features=log2 ............\n",
      "[CV]  estimator__max_depth=8, estimator__max_features=log2, score=0.708305, total=   0.0s\n",
      "[CV] estimator__max_depth=8, estimator__max_features=log2 ............\n",
      "[CV]  estimator__max_depth=8, estimator__max_features=log2, score=0.717036, total=   0.0s\n",
      "[CV] estimator__max_depth=8, estimator__max_features=log2 ............\n",
      "[CV]  estimator__max_depth=8, estimator__max_features=log2, score=0.714286, total=   0.0s\n",
      "[CV] estimator__max_depth=8, estimator__max_features=auto ............\n",
      "[CV]  estimator__max_depth=8, estimator__max_features=auto, score=0.702485, total=   0.0s\n",
      "[CV] estimator__max_depth=8, estimator__max_features=auto ............\n",
      "[CV]  estimator__max_depth=8, estimator__max_features=auto, score=0.690396, total=   0.0s\n",
      "[CV] estimator__max_depth=8, estimator__max_features=auto ............\n",
      "[CV]  estimator__max_depth=8, estimator__max_features=auto, score=0.722123, total=   0.0s\n",
      "[CV] estimator__max_depth=9, estimator__max_features=sqrt ............\n",
      "[CV]  estimator__max_depth=9, estimator__max_features=sqrt, score=0.717931, total=   0.0s\n",
      "[CV] estimator__max_depth=9, estimator__max_features=sqrt ............\n"
     ]
    },
    {
     "name": "stdout",
     "output_type": "stream",
     "text": [
      "[CV]  estimator__max_depth=9, estimator__max_features=sqrt, score=0.722409, total=   0.0s\n",
      "[CV] estimator__max_depth=9, estimator__max_features=sqrt ............\n",
      "[CV]  estimator__max_depth=9, estimator__max_features=sqrt, score=0.712047, total=   0.0s\n",
      "[CV] estimator__max_depth=9, estimator__max_features=log2 ............\n",
      "[CV]  estimator__max_depth=9, estimator__max_features=log2, score=0.721961, total=   0.0s\n",
      "[CV] estimator__max_depth=9, estimator__max_features=log2 ............\n",
      "[CV]  estimator__max_depth=9, estimator__max_features=log2, score=0.708305, total=   0.0s\n",
      "[CV] estimator__max_depth=9, estimator__max_features=log2 ............\n",
      "[CV]  estimator__max_depth=9, estimator__max_features=log2, score=0.728392, total=   0.0s\n",
      "[CV] estimator__max_depth=9, estimator__max_features=auto ............\n",
      "[CV]  estimator__max_depth=9, estimator__max_features=auto, score=0.717931, total=   0.0s\n",
      "[CV] estimator__max_depth=9, estimator__max_features=auto ............\n",
      "[CV]  estimator__max_depth=9, estimator__max_features=auto, score=0.729572, total=   0.0s\n",
      "[CV] estimator__max_depth=9, estimator__max_features=auto ............\n",
      "[CV]  estimator__max_depth=9, estimator__max_features=auto, score=0.726153, total=   0.0s\n",
      "[CV] estimator__max_depth=10, estimator__max_features=sqrt ...........\n",
      "[CV]  estimator__max_depth=10, estimator__max_features=sqrt, score=0.720170, total=   0.1s\n",
      "[CV] estimator__max_depth=10, estimator__max_features=sqrt ...........\n",
      "[CV]  estimator__max_depth=10, estimator__max_features=sqrt, score=0.716588, total=   0.0s\n",
      "[CV] estimator__max_depth=10, estimator__max_features=sqrt ...........\n",
      "[CV]  estimator__max_depth=10, estimator__max_features=sqrt, score=0.725481, total=   0.0s\n",
      "[CV] estimator__max_depth=10, estimator__max_features=log2 ...........\n",
      "[CV]  estimator__max_depth=10, estimator__max_features=log2, score=0.719946, total=   0.1s\n",
      "[CV] estimator__max_depth=10, estimator__max_features=log2 ...........\n",
      "[CV]  estimator__max_depth=10, estimator__max_features=log2, score=0.723752, total=   0.1s\n",
      "[CV] estimator__max_depth=10, estimator__max_features=log2 ...........\n",
      "[CV]  estimator__max_depth=10, estimator__max_features=log2, score=0.730184, total=   0.1s\n",
      "[CV] estimator__max_depth=10, estimator__max_features=auto ...........\n",
      "[CV]  estimator__max_depth=10, estimator__max_features=auto, score=0.725543, total=   0.0s\n",
      "[CV] estimator__max_depth=10, estimator__max_features=auto ...........\n",
      "[CV]  estimator__max_depth=10, estimator__max_features=auto, score=0.722633, total=   0.0s\n",
      "[CV] estimator__max_depth=10, estimator__max_features=auto ...........\n",
      "[CV]  estimator__max_depth=10, estimator__max_features=auto, score=0.717197, total=   0.1s\n"
     ]
    },
    {
     "name": "stderr",
     "output_type": "stream",
     "text": [
      "[Parallel(n_jobs=1)]: Done  81 out of  81 | elapsed:    3.8s finished\n"
     ]
    },
    {
     "data": {
      "text/plain": [
       "GridSearchCV(cv=None, error_score='raise',\n",
       "       estimator=Pipeline(steps=[('scaler', StandardScaler(copy=True, with_mean=False, with_std=True)), ('pca', PCA(copy=True, iterated_power='auto', n_components=5, random_state=None,\n",
       "  svd_solver='auto', tol=0.0, whiten=False)), ('estimator', DecisionTreeClassifier(class_weight=None, criterion='gini', max_depth=None,\n",
       "     ...it=2, min_weight_fraction_leaf=0.0,\n",
       "            presort=False, random_state=None, splitter='best'))]),\n",
       "       fit_params={}, iid=True, n_jobs=1,\n",
       "       param_grid={'estimator__max_depth': [2, 3, 4, 5, 6, 7, 8, 9, 10], 'estimator__max_features': ['sqrt', 'log2', 'auto']},\n",
       "       pre_dispatch='2*n_jobs', refit=True, return_train_score=True,\n",
       "       scoring=None, verbose=10)"
      ]
     },
     "execution_count": 67,
     "metadata": {},
     "output_type": "execute_result"
    }
   ],
   "source": [
    "j_grid_tree = grid_tree.fit(X_train_j, y_train_j)\n",
    "j_grid_tree"
   ]
  },
  {
   "cell_type": "code",
   "execution_count": 68,
   "metadata": {
    "scrolled": true
   },
   "outputs": [
    {
     "name": "stdout",
     "output_type": "stream",
     "text": [
      "Fitting 3 folds for each of 14 candidates, totalling 42 fits\n",
      "[CV] estimator__C=0.001, estimator__penalty=l1 .......................\n",
      "[CV]  estimator__C=0.001, estimator__penalty=l1, score=0.609134, total=   0.0s\n",
      "[CV] estimator__C=0.001, estimator__penalty=l1 .......................\n",
      "[CV]  estimator__C=0.001, estimator__penalty=l1, score=0.587867, total=   0.0s\n",
      "[CV] estimator__C=0.001, estimator__penalty=l1 .......................\n",
      "[CV]  estimator__C=0.001, estimator__penalty=l1, score=0.581281, total=   0.0s\n",
      "[CV] estimator__C=0.001, estimator__penalty=l2 .......................\n",
      "[CV]  estimator__C=0.001, estimator__penalty=l2, score=0.614283, total=   0.0s\n",
      "[CV] estimator__C=0.001, estimator__penalty=l2 .......................\n",
      "[CV]  estimator__C=0.001, estimator__penalty=l2, score=0.616297, total=   0.0s"
     ]
    },
    {
     "name": "stderr",
     "output_type": "stream",
     "text": [
      "[Parallel(n_jobs=1)]: Done   1 out of   1 | elapsed:    0.0s remaining:    0.0s\n",
      "[Parallel(n_jobs=1)]: Done   2 out of   2 | elapsed:    0.1s remaining:    0.0s\n",
      "[Parallel(n_jobs=1)]: Done   3 out of   3 | elapsed:    0.1s remaining:    0.0s\n",
      "[Parallel(n_jobs=1)]: Done   4 out of   4 | elapsed:    0.2s remaining:    0.0s\n",
      "[Parallel(n_jobs=1)]: Done   5 out of   5 | elapsed:    0.2s remaining:    0.0s\n"
     ]
    },
    {
     "name": "stdout",
     "output_type": "stream",
     "text": [
      "\n",
      "[CV] estimator__C=0.001, estimator__penalty=l2 .......................\n",
      "[CV]  estimator__C=0.001, estimator__penalty=l2, score=0.610166, total=   0.0s\n",
      "[CV] estimator__C=0.01, estimator__penalty=l1 ........................\n",
      "[CV]  estimator__C=0.01, estimator__penalty=l1, score=0.613163, total=   0.0s\n",
      "[CV] estimator__C=0.01, estimator__penalty=l1 ........................\n",
      "[CV]  estimator__C=0.01, estimator__penalty=l1, score=0.615178, total=   0.0s\n",
      "[CV] estimator__C=0.01, estimator__penalty=l1 ........................\n",
      "[CV]  estimator__C=0.01, estimator__penalty=l1, score=0.611061, total=   0.0s\n",
      "[CV] estimator__C=0.01, estimator__penalty=l2 ........................\n",
      "[CV]  estimator__C=0.01, estimator__penalty=l2, score=0.614730, total=   0.0s\n",
      "[CV] estimator__C=0.01, estimator__penalty=l2 ........................"
     ]
    },
    {
     "name": "stderr",
     "output_type": "stream",
     "text": [
      "[Parallel(n_jobs=1)]: Done   6 out of   6 | elapsed:    0.2s remaining:    0.0s\n",
      "[Parallel(n_jobs=1)]: Done   7 out of   7 | elapsed:    0.3s remaining:    0.0s\n",
      "[Parallel(n_jobs=1)]: Done   8 out of   8 | elapsed:    0.3s remaining:    0.0s\n",
      "[Parallel(n_jobs=1)]: Done   9 out of   9 | elapsed:    0.4s remaining:    0.0s\n"
     ]
    },
    {
     "name": "stdout",
     "output_type": "stream",
     "text": [
      "\n",
      "[CV]  estimator__C=0.01, estimator__penalty=l2, score=0.614059, total=   0.0s\n",
      "[CV] estimator__C=0.01, estimator__penalty=l2 ........................\n",
      "[CV]  estimator__C=0.01, estimator__penalty=l2, score=0.609718, total=   0.0s\n",
      "[CV] estimator__C=0.1, estimator__penalty=l1 .........................\n",
      "[CV]  estimator__C=0.1, estimator__penalty=l1, score=0.613387, total=   0.0s\n",
      "[CV] estimator__C=0.1, estimator__penalty=l1 .........................\n",
      "[CV]  estimator__C=0.1, estimator__penalty=l1, score=0.614283, total=   0.0s\n",
      "[CV] estimator__C=0.1, estimator__penalty=l1 .........................\n",
      "[CV]  estimator__C=0.1, estimator__penalty=l1, score=0.609942, total=   0.0s\n",
      "[CV] estimator__C=0.1, estimator__penalty=l2 .........................\n",
      "[CV]  estimator__C=0.1, estimator__penalty=l2, score=0.613835, total=   0.0s\n",
      "[CV] estimator__C=0.1, estimator__penalty=l2 .........................\n",
      "[CV]  estimator__C=0.1, estimator__penalty=l2, score=0.613835, total=   0.0s\n",
      "[CV] estimator__C=0.1, estimator__penalty=l2 .........................\n",
      "[CV]  estimator__C=0.1, estimator__penalty=l2, score=0.609718, total=   0.0s\n",
      "[CV] estimator__C=1.0, estimator__penalty=l1 .........................\n",
      "[CV]  estimator__C=1.0, estimator__penalty=l1, score=0.614059, total=   0.0s\n",
      "[CV] estimator__C=1.0, estimator__penalty=l1 .........................\n",
      "[CV]  estimator__C=1.0, estimator__penalty=l1, score=0.614059, total=   0.0s\n",
      "[CV] estimator__C=1.0, estimator__penalty=l1 .........................\n",
      "[CV]  estimator__C=1.0, estimator__penalty=l1, score=0.609718, total=   0.0s\n",
      "[CV] estimator__C=1.0, estimator__penalty=l2 .........................\n",
      "[CV]  estimator__C=1.0, estimator__penalty=l2, score=0.613835, total=   0.0s\n",
      "[CV] estimator__C=1.0, estimator__penalty=l2 .........................\n",
      "[CV]  estimator__C=1.0, estimator__penalty=l2, score=0.613835, total=   0.0s\n",
      "[CV] estimator__C=1.0, estimator__penalty=l2 .........................\n",
      "[CV]  estimator__C=1.0, estimator__penalty=l2, score=0.609718, total=   0.0s\n",
      "[CV] estimator__C=10.0, estimator__penalty=l1 ........................\n",
      "[CV]  estimator__C=10.0, estimator__penalty=l1, score=0.613835, total=   0.0s\n",
      "[CV] estimator__C=10.0, estimator__penalty=l1 ........................\n",
      "[CV]  estimator__C=10.0, estimator__penalty=l1, score=0.613835, total=   0.0s\n",
      "[CV] estimator__C=10.0, estimator__penalty=l1 ........................\n",
      "[CV]  estimator__C=10.0, estimator__penalty=l1, score=0.609718, total=   0.0s\n",
      "[CV] estimator__C=10.0, estimator__penalty=l2 ........................\n",
      "[CV]  estimator__C=10.0, estimator__penalty=l2, score=0.613835, total=   0.0s\n",
      "[CV] estimator__C=10.0, estimator__penalty=l2 ........................\n",
      "[CV]  estimator__C=10.0, estimator__penalty=l2, score=0.613835, total=   0.0s\n",
      "[CV] estimator__C=10.0, estimator__penalty=l2 ........................\n",
      "[CV]  estimator__C=10.0, estimator__penalty=l2, score=0.609718, total=   0.0s\n",
      "[CV] estimator__C=100.0, estimator__penalty=l1 .......................\n",
      "[CV]  estimator__C=100.0, estimator__penalty=l1, score=0.613835, total=   0.0s\n",
      "[CV] estimator__C=100.0, estimator__penalty=l1 .......................\n",
      "[CV]  estimator__C=100.0, estimator__penalty=l1, score=0.613835, total=   0.0s\n",
      "[CV] estimator__C=100.0, estimator__penalty=l1 .......................\n",
      "[CV]  estimator__C=100.0, estimator__penalty=l1, score=0.609718, total=   0.0s\n",
      "[CV] estimator__C=100.0, estimator__penalty=l2 .......................\n",
      "[CV]  estimator__C=100.0, estimator__penalty=l2, score=0.613835, total=   0.0s\n",
      "[CV] estimator__C=100.0, estimator__penalty=l2 .......................\n",
      "[CV]  estimator__C=100.0, estimator__penalty=l2, score=0.613835, total=   0.0s\n",
      "[CV] estimator__C=100.0, estimator__penalty=l2 .......................\n",
      "[CV]  estimator__C=100.0, estimator__penalty=l2, score=0.609718, total=   0.0s\n",
      "[CV] estimator__C=1000.0, estimator__penalty=l1 ......................\n",
      "[CV]  estimator__C=1000.0, estimator__penalty=l1, score=0.613835, total=   0.0s\n",
      "[CV] estimator__C=1000.0, estimator__penalty=l1 ......................\n",
      "[CV]  estimator__C=1000.0, estimator__penalty=l1, score=0.613835, total=   0.0s\n",
      "[CV] estimator__C=1000.0, estimator__penalty=l1 ......................\n",
      "[CV]  estimator__C=1000.0, estimator__penalty=l1, score=0.609718, total=   0.0s\n",
      "[CV] estimator__C=1000.0, estimator__penalty=l2 ......................\n",
      "[CV]  estimator__C=1000.0, estimator__penalty=l2, score=0.613835, total=   0.0s\n",
      "[CV] estimator__C=1000.0, estimator__penalty=l2 ......................\n",
      "[CV]  estimator__C=1000.0, estimator__penalty=l2, score=0.613835, total=   0.0s\n",
      "[CV] estimator__C=1000.0, estimator__penalty=l2 ......................\n",
      "[CV]  estimator__C=1000.0, estimator__penalty=l2, score=0.609718, total=   0.0s\n"
     ]
    },
    {
     "name": "stderr",
     "output_type": "stream",
     "text": [
      "[Parallel(n_jobs=1)]: Done  42 out of  42 | elapsed:    1.7s finished\n"
     ]
    },
    {
     "data": {
      "text/plain": [
       "GridSearchCV(cv=None, error_score='raise',\n",
       "       estimator=Pipeline(steps=[('scaler', StandardScaler(copy=True, with_mean=False, with_std=True)), ('pca', PCA(copy=True, iterated_power='auto', n_components=5, random_state=None,\n",
       "  svd_solver='auto', tol=0.0, whiten=False)), ('estimator', LogisticRegression(C=1.0, class_weight=None, dual=False, fit_i...y='l2', random_state=None, solver='liblinear', tol=0.0001,\n",
       "          verbose=0, warm_start=False))]),\n",
       "       fit_params={}, iid=True, n_jobs=1,\n",
       "       param_grid={'estimator__C': array([  1.00000e-03,   1.00000e-02,   1.00000e-01,   1.00000e+00,\n",
       "         1.00000e+01,   1.00000e+02,   1.00000e+03]), 'estimator__penalty': ['l1', 'l2']},\n",
       "       pre_dispatch='2*n_jobs', refit=True, return_train_score=True,\n",
       "       scoring=None, verbose=10)"
      ]
     },
     "execution_count": 68,
     "metadata": {},
     "output_type": "execute_result"
    }
   ],
   "source": [
    "j_grid_logr = grid_logr.fit(X_train_j, y_train_j)\n",
    "j_grid_logr"
   ]
  },
  {
   "cell_type": "code",
   "execution_count": 69,
   "metadata": {
    "scrolled": true
   },
   "outputs": [
    {
     "name": "stdout",
     "output_type": "stream",
     "text": [
      "Fitting 3 folds for each of 3 candidates, totalling 9 fits\n",
      "[CV] estimator__n_neighbors=3 ........................................\n",
      "[CV] ......... estimator__n_neighbors=3, score=0.816208, total=   0.1s\n",
      "[CV] estimator__n_neighbors=3 ........................................\n"
     ]
    },
    {
     "name": "stderr",
     "output_type": "stream",
     "text": [
      "[Parallel(n_jobs=1)]: Done   1 out of   1 | elapsed:    0.2s remaining:    0.0s\n",
      "[Parallel(n_jobs=1)]: Done   2 out of   2 | elapsed:    0.3s remaining:    0.0s\n"
     ]
    },
    {
     "name": "stdout",
     "output_type": "stream",
     "text": [
      "[CV] ......... estimator__n_neighbors=3, score=0.807029, total=   0.1s\n",
      "[CV] estimator__n_neighbors=3 ........................................\n",
      "[CV] ......... estimator__n_neighbors=3, score=0.811017, total=   0.1s\n",
      "[CV] estimator__n_neighbors=5 ........................................\n"
     ]
    },
    {
     "name": "stderr",
     "output_type": "stream",
     "text": [
      "[Parallel(n_jobs=1)]: Done   3 out of   3 | elapsed:    0.5s remaining:    0.0s\n",
      "[Parallel(n_jobs=1)]: Done   4 out of   4 | elapsed:    0.7s remaining:    0.0s\n"
     ]
    },
    {
     "name": "stdout",
     "output_type": "stream",
     "text": [
      "[CV] ......... estimator__n_neighbors=5, score=0.824491, total=   0.1s\n",
      "[CV] estimator__n_neighbors=5 ........................................\n",
      "[CV] ......... estimator__n_neighbors=5, score=0.810835, total=   0.1s\n"
     ]
    },
    {
     "name": "stderr",
     "output_type": "stream",
     "text": [
      "[Parallel(n_jobs=1)]: Done   5 out of   5 | elapsed:    0.9s remaining:    0.0s\n",
      "[Parallel(n_jobs=1)]: Done   6 out of   6 | elapsed:    1.1s remaining:    0.0s\n"
     ]
    },
    {
     "name": "stdout",
     "output_type": "stream",
     "text": [
      "[CV] estimator__n_neighbors=5 ........................................\n",
      "[CV] ......... estimator__n_neighbors=5, score=0.814375, total=   0.1s\n",
      "[CV] estimator__n_neighbors=11 .......................................\n",
      "[CV] ........ estimator__n_neighbors=11, score=0.810611, total=   0.1s\n",
      "[CV] estimator__n_neighbors=11 .......................................\n"
     ]
    },
    {
     "name": "stderr",
     "output_type": "stream",
     "text": [
      "[Parallel(n_jobs=1)]: Done   7 out of   7 | elapsed:    1.4s remaining:    0.0s\n"
     ]
    },
    {
     "name": "stdout",
     "output_type": "stream",
     "text": [
      "[CV] ........ estimator__n_neighbors=11, score=0.811059, total=   0.1s\n",
      "[CV] estimator__n_neighbors=11 .......................................\n"
     ]
    },
    {
     "name": "stderr",
     "output_type": "stream",
     "text": [
      "[Parallel(n_jobs=1)]: Done   8 out of   8 | elapsed:    1.6s remaining:    0.0s\n"
     ]
    },
    {
     "name": "stdout",
     "output_type": "stream",
     "text": [
      "[CV] ........ estimator__n_neighbors=11, score=0.813927, total=   0.1s\n"
     ]
    },
    {
     "name": "stderr",
     "output_type": "stream",
     "text": [
      "[Parallel(n_jobs=1)]: Done   9 out of   9 | elapsed:    1.9s remaining:    0.0s\n",
      "[Parallel(n_jobs=1)]: Done   9 out of   9 | elapsed:    1.9s finished\n"
     ]
    },
    {
     "data": {
      "text/plain": [
       "GridSearchCV(cv=None, error_score='raise',\n",
       "       estimator=Pipeline(steps=[('scaler', StandardScaler(copy=True, with_mean=False, with_std=True)), ('pca', PCA(copy=True, iterated_power='auto', n_components=5, random_state=None,\n",
       "  svd_solver='auto', tol=0.0, whiten=False)), ('estimator', KNeighborsClassifier(algorithm='auto', leaf_size=30, metric='minkowski',\n",
       "           metric_params=None, n_jobs=1, n_neighbors=5, p=2,\n",
       "           weights='uniform'))]),\n",
       "       fit_params={}, iid=True, n_jobs=1,\n",
       "       param_grid={'estimator__n_neighbors': [3, 5, 11]},\n",
       "       pre_dispatch='2*n_jobs', refit=True, return_train_score=True,\n",
       "       scoring=None, verbose=10)"
      ]
     },
     "execution_count": 69,
     "metadata": {},
     "output_type": "execute_result"
    }
   ],
   "source": [
    "j_grid_knc = grid_knc.fit(X_train_j, y_train_j)\n",
    "j_grid_knc"
   ]
  },
  {
   "cell_type": "code",
   "execution_count": 70,
   "metadata": {
    "scrolled": false
   },
   "outputs": [
    {
     "name": "stdout",
     "output_type": "stream",
     "text": [
      "Fitting 3 folds for each of 4 candidates, totalling 12 fits\n",
      "[CV] estimator__C=0.001, estimator__kernel=rbf .......................\n",
      "[CV]  estimator__C=0.001, estimator__kernel=rbf, score=0.503470, total=   6.1s\n",
      "[CV] estimator__C=0.001, estimator__kernel=rbf .......................\n"
     ]
    },
    {
     "name": "stderr",
     "output_type": "stream",
     "text": [
      "[Parallel(n_jobs=1)]: Done   1 out of   1 | elapsed:    8.6s remaining:    0.0s\n"
     ]
    },
    {
     "name": "stdout",
     "output_type": "stream",
     "text": [
      "[CV]  estimator__C=0.001, estimator__kernel=rbf, score=0.503470, total=   6.1s\n",
      "[CV] estimator__C=0.001, estimator__kernel=rbf .......................\n"
     ]
    },
    {
     "name": "stderr",
     "output_type": "stream",
     "text": [
      "[Parallel(n_jobs=1)]: Done   2 out of   2 | elapsed:   17.2s remaining:    0.0s\n"
     ]
    },
    {
     "name": "stdout",
     "output_type": "stream",
     "text": [
      "[CV]  estimator__C=0.001, estimator__kernel=rbf, score=0.503359, total=   6.1s\n",
      "[CV] estimator__C=0.1, estimator__kernel=rbf .........................\n"
     ]
    },
    {
     "name": "stderr",
     "output_type": "stream",
     "text": [
      "[Parallel(n_jobs=1)]: Done   3 out of   3 | elapsed:   25.8s remaining:    0.0s\n"
     ]
    },
    {
     "name": "stdout",
     "output_type": "stream",
     "text": [
      "[CV]  estimator__C=0.1, estimator__kernel=rbf, score=0.784643, total=   4.3s\n",
      "[CV] estimator__C=0.1, estimator__kernel=rbf .........................\n"
     ]
    },
    {
     "name": "stderr",
     "output_type": "stream",
     "text": [
      "[Parallel(n_jobs=1)]: Done   4 out of   4 | elapsed:   31.9s remaining:    0.0s\n"
     ]
    },
    {
     "name": "stdout",
     "output_type": "stream",
     "text": [
      "[CV]  estimator__C=0.1, estimator__kernel=rbf, score=0.779942, total=   4.3s\n",
      "[CV] estimator__C=0.1, estimator__kernel=rbf .........................\n"
     ]
    },
    {
     "name": "stderr",
     "output_type": "stream",
     "text": [
      "[Parallel(n_jobs=1)]: Done   5 out of   5 | elapsed:   38.0s remaining:    0.0s\n"
     ]
    },
    {
     "name": "stdout",
     "output_type": "stream",
     "text": [
      "[CV]  estimator__C=0.1, estimator__kernel=rbf, score=0.784371, total=   4.4s\n",
      "[CV] estimator__C=10.0, estimator__kernel=rbf ........................\n"
     ]
    },
    {
     "name": "stderr",
     "output_type": "stream",
     "text": [
      "[Parallel(n_jobs=1)]: Done   6 out of   6 | elapsed:   44.2s remaining:    0.0s\n"
     ]
    },
    {
     "name": "stdout",
     "output_type": "stream",
     "text": [
      "[CV]  estimator__C=10.0, estimator__kernel=rbf, score=0.835460, total=   4.5s\n",
      "[CV] estimator__C=10.0, estimator__kernel=rbf ........................\n"
     ]
    },
    {
     "name": "stderr",
     "output_type": "stream",
     "text": [
      "[Parallel(n_jobs=1)]: Done   7 out of   7 | elapsed:   49.9s remaining:    0.0s\n"
     ]
    },
    {
     "name": "stdout",
     "output_type": "stream",
     "text": [
      "[CV]  estimator__C=10.0, estimator__kernel=rbf, score=0.826058, total=   4.5s\n",
      "[CV] estimator__C=10.0, estimator__kernel=rbf ........................\n"
     ]
    },
    {
     "name": "stderr",
     "output_type": "stream",
     "text": [
      "[Parallel(n_jobs=1)]: Done   8 out of   8 | elapsed:   55.6s remaining:    0.0s\n"
     ]
    },
    {
     "name": "stdout",
     "output_type": "stream",
     "text": [
      "[CV]  estimator__C=10.0, estimator__kernel=rbf, score=0.825571, total=   4.6s\n",
      "[CV] estimator__C=1000.0, estimator__kernel=rbf ......................\n"
     ]
    },
    {
     "name": "stderr",
     "output_type": "stream",
     "text": [
      "[Parallel(n_jobs=1)]: Done   9 out of   9 | elapsed:  1.0min remaining:    0.0s\n"
     ]
    },
    {
     "name": "stdout",
     "output_type": "stream",
     "text": [
      "[CV]  estimator__C=1000.0, estimator__kernel=rbf, score=0.798746, total=  50.2s\n",
      "[CV] estimator__C=1000.0, estimator__kernel=rbf ......................\n",
      "[CV]  estimator__C=1000.0, estimator__kernel=rbf, score=0.801209, total=  43.5s\n",
      "[CV] estimator__C=1000.0, estimator__kernel=rbf ......................\n",
      "[CV]  estimator__C=1000.0, estimator__kernel=rbf, score=0.792656, total=  48.2s\n"
     ]
    },
    {
     "name": "stderr",
     "output_type": "stream",
     "text": [
      "[Parallel(n_jobs=1)]: Done  12 out of  12 | elapsed:  3.4min finished\n"
     ]
    },
    {
     "data": {
      "text/plain": [
       "GridSearchCV(cv=None, error_score='raise',\n",
       "       estimator=Pipeline(steps=[('scaler', StandardScaler(copy=True, with_mean=False, with_std=True)), ('pca', PCA(copy=True, iterated_power='auto', n_components=5, random_state=None,\n",
       "  svd_solver='auto', tol=0.0, whiten=False)), ('estimator', SVC(C=1.0, cache_size=200, class_weight=None, coef0=0.0,\n",
       "  decision_function_shape=None, degree=3, gamma='auto', kernel='rbf',\n",
       "  max_iter=-1, probability=False, random_state=None, shrinking=True,\n",
       "  tol=0.001, verbose=False))]),\n",
       "       fit_params={}, iid=True, n_jobs=1,\n",
       "       param_grid={'estimator__C': array([  1.00000e-03,   1.00000e-01,   1.00000e+01,   1.00000e+03]), 'estimator__kernel': ['rbf']},\n",
       "       pre_dispatch='2*n_jobs', refit=True, return_train_score=True,\n",
       "       scoring=None, verbose=10)"
      ]
     },
     "execution_count": 70,
     "metadata": {},
     "output_type": "execute_result"
    }
   ],
   "source": [
    "j_grid_svc = grid_svc.fit(X_train_j, y_train_j)\n",
    "j_grid_svc"
   ]
  },
  {
   "cell_type": "code",
   "execution_count": 71,
   "metadata": {},
   "outputs": [
    {
     "name": "stdout",
     "output_type": "stream",
     "text": [
      "Fitting 3 folds for each of 12 candidates, totalling 36 fits\n",
      "[CV] estimator__max_features=sqrt, estimator__n_estimators=25 ........\n",
      "[CV]  estimator__max_features=sqrt, estimator__n_estimators=25, score=0.807701, total=   0.5s\n",
      "[CV] estimator__max_features=sqrt, estimator__n_estimators=25 ........\n"
     ]
    },
    {
     "name": "stderr",
     "output_type": "stream",
     "text": [
      "[Parallel(n_jobs=1)]: Done   1 out of   1 | elapsed:    0.6s remaining:    0.0s\n"
     ]
    },
    {
     "name": "stdout",
     "output_type": "stream",
     "text": [
      "[CV]  estimator__max_features=sqrt, estimator__n_estimators=25, score=0.811954, total=   0.5s\n",
      "[CV] estimator__max_features=sqrt, estimator__n_estimators=25 ........\n"
     ]
    },
    {
     "name": "stderr",
     "output_type": "stream",
     "text": [
      "[Parallel(n_jobs=1)]: Done   2 out of   2 | elapsed:    1.1s remaining:    0.0s\n"
     ]
    },
    {
     "name": "stdout",
     "output_type": "stream",
     "text": [
      "[CV]  estimator__max_features=sqrt, estimator__n_estimators=25, score=0.812360, total=   0.5s\n",
      "[CV] estimator__max_features=sqrt, estimator__n_estimators=50 ........\n"
     ]
    },
    {
     "name": "stderr",
     "output_type": "stream",
     "text": [
      "[Parallel(n_jobs=1)]: Done   3 out of   3 | elapsed:    1.6s remaining:    0.0s\n"
     ]
    },
    {
     "name": "stdout",
     "output_type": "stream",
     "text": [
      "[CV]  estimator__max_features=sqrt, estimator__n_estimators=50, score=0.815536, total=   1.0s\n",
      "[CV] estimator__max_features=sqrt, estimator__n_estimators=50 ........\n"
     ]
    },
    {
     "name": "stderr",
     "output_type": "stream",
     "text": [
      "[Parallel(n_jobs=1)]: Done   4 out of   4 | elapsed:    2.7s remaining:    0.0s\n"
     ]
    },
    {
     "name": "stdout",
     "output_type": "stream",
     "text": [
      "[CV]  estimator__max_features=sqrt, estimator__n_estimators=50, score=0.817327, total=   1.0s\n",
      "[CV] estimator__max_features=sqrt, estimator__n_estimators=50 ........\n"
     ]
    },
    {
     "name": "stderr",
     "output_type": "stream",
     "text": [
      "[Parallel(n_jobs=1)]: Done   5 out of   5 | elapsed:    3.8s remaining:    0.0s\n"
     ]
    },
    {
     "name": "stdout",
     "output_type": "stream",
     "text": [
      "[CV]  estimator__max_features=sqrt, estimator__n_estimators=50, score=0.809001, total=   1.0s\n",
      "[CV] estimator__max_features=sqrt, estimator__n_estimators=75 ........\n"
     ]
    },
    {
     "name": "stderr",
     "output_type": "stream",
     "text": [
      "[Parallel(n_jobs=1)]: Done   6 out of   6 | elapsed:    4.8s remaining:    0.0s\n"
     ]
    },
    {
     "name": "stdout",
     "output_type": "stream",
     "text": [
      "[CV]  estimator__max_features=sqrt, estimator__n_estimators=75, score=0.817103, total=   1.5s\n",
      "[CV] estimator__max_features=sqrt, estimator__n_estimators=75 ........\n"
     ]
    },
    {
     "name": "stderr",
     "output_type": "stream",
     "text": [
      "[Parallel(n_jobs=1)]: Done   7 out of   7 | elapsed:    6.4s remaining:    0.0s\n"
     ]
    },
    {
     "name": "stdout",
     "output_type": "stream",
     "text": [
      "[CV]  estimator__max_features=sqrt, estimator__n_estimators=75, score=0.818446, total=   1.4s\n",
      "[CV] estimator__max_features=sqrt, estimator__n_estimators=75 ........\n"
     ]
    },
    {
     "name": "stderr",
     "output_type": "stream",
     "text": [
      "[Parallel(n_jobs=1)]: Done   8 out of   8 | elapsed:    8.0s remaining:    0.0s\n"
     ]
    },
    {
     "name": "stdout",
     "output_type": "stream",
     "text": [
      "[CV]  estimator__max_features=sqrt, estimator__n_estimators=75, score=0.814823, total=   1.5s\n",
      "[CV] estimator__max_features=sqrt, estimator__n_estimators=100 .......\n"
     ]
    },
    {
     "name": "stderr",
     "output_type": "stream",
     "text": [
      "[Parallel(n_jobs=1)]: Done   9 out of   9 | elapsed:    9.5s remaining:    0.0s\n"
     ]
    },
    {
     "name": "stdout",
     "output_type": "stream",
     "text": [
      "[CV]  estimator__max_features=sqrt, estimator__n_estimators=100, score=0.813521, total=   2.0s\n",
      "[CV] estimator__max_features=sqrt, estimator__n_estimators=100 .......\n",
      "[CV]  estimator__max_features=sqrt, estimator__n_estimators=100, score=0.820685, total=   1.9s\n",
      "[CV] estimator__max_features=sqrt, estimator__n_estimators=100 .......\n",
      "[CV]  estimator__max_features=sqrt, estimator__n_estimators=100, score=0.815495, total=   2.0s\n",
      "[CV] estimator__max_features=auto, estimator__n_estimators=25 ........\n",
      "[CV]  estimator__max_features=auto, estimator__n_estimators=25, score=0.814641, total=   0.5s\n",
      "[CV] estimator__max_features=auto, estimator__n_estimators=25 ........\n",
      "[CV]  estimator__max_features=auto, estimator__n_estimators=25, score=0.811954, total=   0.5s\n",
      "[CV] estimator__max_features=auto, estimator__n_estimators=25 ........\n",
      "[CV]  estimator__max_features=auto, estimator__n_estimators=25, score=0.807434, total=   0.5s\n",
      "[CV] estimator__max_features=auto, estimator__n_estimators=50 ........\n",
      "[CV]  estimator__max_features=auto, estimator__n_estimators=50, score=0.820461, total=   1.0s\n",
      "[CV] estimator__max_features=auto, estimator__n_estimators=50 ........\n",
      "[CV]  estimator__max_features=auto, estimator__n_estimators=50, score=0.820237, total=   1.0s\n",
      "[CV] estimator__max_features=auto, estimator__n_estimators=50 ........\n",
      "[CV]  estimator__max_features=auto, estimator__n_estimators=50, score=0.809449, total=   1.0s\n",
      "[CV] estimator__max_features=auto, estimator__n_estimators=75 ........\n",
      "[CV]  estimator__max_features=auto, estimator__n_estimators=75, score=0.814193, total=   1.5s\n",
      "[CV] estimator__max_features=auto, estimator__n_estimators=75 ........\n",
      "[CV]  estimator__max_features=auto, estimator__n_estimators=75, score=0.816879, total=   1.5s\n",
      "[CV] estimator__max_features=auto, estimator__n_estimators=75 ........\n",
      "[CV]  estimator__max_features=auto, estimator__n_estimators=75, score=0.817062, total=   1.5s\n",
      "[CV] estimator__max_features=auto, estimator__n_estimators=100 .......\n",
      "[CV]  estimator__max_features=auto, estimator__n_estimators=100, score=0.815984, total=   2.0s\n",
      "[CV] estimator__max_features=auto, estimator__n_estimators=100 .......\n",
      "[CV]  estimator__max_features=auto, estimator__n_estimators=100, score=0.821357, total=   2.0s\n",
      "[CV] estimator__max_features=auto, estimator__n_estimators=100 .......\n",
      "[CV]  estimator__max_features=auto, estimator__n_estimators=100, score=0.812808, total=   1.9s\n",
      "[CV] estimator__max_features=log2, estimator__n_estimators=25 ........\n",
      "[CV]  estimator__max_features=log2, estimator__n_estimators=25, score=0.808596, total=   0.5s\n",
      "[CV] estimator__max_features=log2, estimator__n_estimators=25 ........\n",
      "[CV]  estimator__max_features=log2, estimator__n_estimators=25, score=0.808149, total=   0.5s\n",
      "[CV] estimator__max_features=log2, estimator__n_estimators=25 ........\n",
      "[CV]  estimator__max_features=log2, estimator__n_estimators=25, score=0.813480, total=   0.5s\n",
      "[CV] estimator__max_features=log2, estimator__n_estimators=50 ........\n",
      "[CV]  estimator__max_features=log2, estimator__n_estimators=50, score=0.818223, total=   1.0s\n",
      "[CV] estimator__max_features=log2, estimator__n_estimators=50 ........\n",
      "[CV]  estimator__max_features=log2, estimator__n_estimators=50, score=0.813745, total=   1.0s\n",
      "[CV] estimator__max_features=log2, estimator__n_estimators=50 ........\n",
      "[CV]  estimator__max_features=log2, estimator__n_estimators=50, score=0.813032, total=   1.0s\n",
      "[CV] estimator__max_features=log2, estimator__n_estimators=75 ........\n",
      "[CV]  estimator__max_features=log2, estimator__n_estimators=75, score=0.812402, total=   1.5s\n",
      "[CV] estimator__max_features=log2, estimator__n_estimators=75 ........\n",
      "[CV]  estimator__max_features=log2, estimator__n_estimators=75, score=0.819342, total=   1.5s\n",
      "[CV] estimator__max_features=log2, estimator__n_estimators=75 ........\n",
      "[CV]  estimator__max_features=log2, estimator__n_estimators=75, score=0.816614, total=   1.5s\n",
      "[CV] estimator__max_features=log2, estimator__n_estimators=100 .......\n",
      "[CV]  estimator__max_features=log2, estimator__n_estimators=100, score=0.820237, total=   2.0s\n",
      "[CV] estimator__max_features=log2, estimator__n_estimators=100 .......\n",
      "[CV]  estimator__max_features=log2, estimator__n_estimators=100, score=0.821804, total=   2.0s\n",
      "[CV] estimator__max_features=log2, estimator__n_estimators=100 .......\n",
      "[CV]  estimator__max_features=log2, estimator__n_estimators=100, score=0.816391, total=   2.0s\n"
     ]
    },
    {
     "name": "stderr",
     "output_type": "stream",
     "text": [
      "[Parallel(n_jobs=1)]: Done  36 out of  36 | elapsed:   47.7s finished\n"
     ]
    },
    {
     "data": {
      "text/plain": [
       "GridSearchCV(cv=None, error_score='raise',\n",
       "       estimator=Pipeline(steps=[('scaler', StandardScaler(copy=True, with_mean=False, with_std=True)), ('pca', PCA(copy=True, iterated_power='auto', n_components=5, random_state=None,\n",
       "  svd_solver='auto', tol=0.0, whiten=False)), ('estimator', RandomForestClassifier(bootstrap=True, class_weight=None, criterion='gini',\n",
       "     ...imators=10, n_jobs=1, oob_score=False, random_state=None,\n",
       "            verbose=0, warm_start=False))]),\n",
       "       fit_params={}, iid=True, n_jobs=1,\n",
       "       param_grid={'estimator__n_estimators': [25, 50, 75, 100], 'estimator__max_features': ['sqrt', 'auto', 'log2']},\n",
       "       pre_dispatch='2*n_jobs', refit=True, return_train_score=True,\n",
       "       scoring=None, verbose=10)"
      ]
     },
     "execution_count": 71,
     "metadata": {},
     "output_type": "execute_result"
    }
   ],
   "source": [
    "j_grid_rfc = grid_rfc.fit(X_train_j, y_train_j)\n",
    "j_grid_rfc"
   ]
  },
  {
   "cell_type": "code",
   "execution_count": 72,
   "metadata": {
    "collapsed": true
   },
   "outputs": [],
   "source": [
    "grid_logr_train_score_j = grid_logr.score(X_train_j, y_train_j)\n",
    "grid_logr_test_score_j  = grid_logr.score(X_test_j, y_test_j)\n",
    "\n",
    "grid_tree_train_score_j = grid_tree.score(X_train_j, y_train_j)\n",
    "grid_tree_test_score_j  = grid_tree.score(X_test_j, y_test_j)\n",
    "\n",
    "grid_knc_train_score_j  = grid_knc.score(X_train_j, y_train_j)\n",
    "grid_knc_test_score_j   = grid_knc.score(X_test_j, y_test_j)\n",
    "\n",
    "grid_svc_train_score_j  = grid_svc.score(X_train_j, y_train_j)\n",
    "grid_svc_test_score_j   = grid_svc.score(X_test_j, y_test_j)\n",
    "\n",
    "grid_rfc_train_score_j  = grid_rfc.score(X_train_j, y_train_j)\n",
    "grid_rfc_test_score_j   = grid_rfc.score(X_test_j, y_test_j)"
   ]
  },
  {
   "cell_type": "code",
   "execution_count": 73,
   "metadata": {
    "collapsed": true
   },
   "outputs": [],
   "source": [
    "josh_grid_results = []\n",
    "\n",
    "josh_grid_results.append({'model': 'LogisticRegressionGrid',\n",
    "                         'dataset' : 'train',\n",
    "                         'preprocessing': 'scaled, PCA',\n",
    "                         'score': grid_logr_train_score_j})\n",
    "\n",
    "josh_grid_results.append({'model': 'LogisticRegressionGrid',\n",
    "                         'dataset' : 'test',\n",
    "                         'preprocessing': 'scaled, PCA',\n",
    "                         'score': grid_logr_test_score_j})\n",
    "\n",
    "josh_grid_results.append({'model': 'DecisionTreeClassifierGrid',\n",
    "                         'dataset' : 'train',\n",
    "                         'preprocessing': 'scaled, PCA',\n",
    "                         'score': grid_tree_train_score_j})\n",
    "\n",
    "josh_grid_results.append({'model': 'DecisionTreeClassifierGrid',\n",
    "                         'dataset' : 'test',\n",
    "                         'preprocessing': 'scaled, PCA',\n",
    "                         'score': grid_tree_test_score_j})\n",
    "\n",
    "josh_grid_results.append({'model': 'KNeighborsClassifierGrid',\n",
    "                         'dataset' : 'train',\n",
    "                         'preprocessing': 'scaled, PCA',\n",
    "                         'score': grid_knc_train_score_j})\n",
    "\n",
    "josh_grid_results.append({'model': 'KNeighborsClassifierGrid',\n",
    "                         'dataset' : 'test',\n",
    "                         'preprocessing': 'scaled, PCA',\n",
    "                         'score': grid_knc_test_score_j})\n",
    "\n",
    "josh_grid_results.append({'model': 'SVCGrid',\n",
    "                         'dataset' : 'train',\n",
    "                         'preprocessing': 'scaled, PCA',\n",
    "                         'score': grid_svc_train_score_j})\n",
    "\n",
    "josh_grid_results.append({'model': 'SVCGrid',\n",
    "                         'dataset' : 'test',\n",
    "                         'preprocessing': 'scaled, PCA',\n",
    "                         'score': grid_svc_test_score_j})\n",
    "\n",
    "josh_grid_results.append({'model': 'RandomForestClassifierGrid',\n",
    "                         'dataset' : 'train',\n",
    "                         'preprocessing': 'scaled, PCA',\n",
    "                         'score': grid_rfc_train_score_j})\n",
    "\n",
    "josh_grid_results.append({'model': 'RandomForestClassifierGrid',\n",
    "                         'dataset' : 'test',\n",
    "                         'preprocessing': 'scaled, PCA',\n",
    "                         'score': grid_rfc_test_score_j})"
   ]
  },
  {
   "cell_type": "code",
   "execution_count": 76,
   "metadata": {},
   "outputs": [
    {
     "data": {
      "text/html": [
       "<div>\n",
       "<table border=\"1\" class=\"dataframe\">\n",
       "  <thead>\n",
       "    <tr style=\"text-align: right;\">\n",
       "      <th></th>\n",
       "      <th>dataset</th>\n",
       "      <th>model</th>\n",
       "      <th>preprocessing</th>\n",
       "      <th>score</th>\n",
       "    </tr>\n",
       "  </thead>\n",
       "  <tbody>\n",
       "    <tr>\n",
       "      <th>0</th>\n",
       "      <td>train</td>\n",
       "      <td>LogisticRegressionGrid</td>\n",
       "      <td>scaled, PCA</td>\n",
       "      <td>0.612612</td>\n",
       "    </tr>\n",
       "    <tr>\n",
       "      <th>1</th>\n",
       "      <td>test</td>\n",
       "      <td>LogisticRegressionGrid</td>\n",
       "      <td>scaled, PCA</td>\n",
       "      <td>0.609091</td>\n",
       "    </tr>\n",
       "    <tr>\n",
       "      <th>2</th>\n",
       "      <td>train</td>\n",
       "      <td>DecisionTreeClassifierGrid</td>\n",
       "      <td>scaled, PCA</td>\n",
       "      <td>0.801119</td>\n",
       "    </tr>\n",
       "    <tr>\n",
       "      <th>3</th>\n",
       "      <td>test</td>\n",
       "      <td>DecisionTreeClassifierGrid</td>\n",
       "      <td>scaled, PCA</td>\n",
       "      <td>0.744091</td>\n",
       "    </tr>\n",
       "    <tr>\n",
       "      <th>4</th>\n",
       "      <td>train</td>\n",
       "      <td>KNeighborsClassifierGrid</td>\n",
       "      <td>scaled, PCA</td>\n",
       "      <td>0.883358</td>\n",
       "    </tr>\n",
       "    <tr>\n",
       "      <th>5</th>\n",
       "      <td>test</td>\n",
       "      <td>KNeighborsClassifierGrid</td>\n",
       "      <td>scaled, PCA</td>\n",
       "      <td>0.827576</td>\n",
       "    </tr>\n",
       "    <tr>\n",
       "      <th>6</th>\n",
       "      <td>train</td>\n",
       "      <td>SVCGrid</td>\n",
       "      <td>scaled, PCA</td>\n",
       "      <td>0.883582</td>\n",
       "    </tr>\n",
       "    <tr>\n",
       "      <th>7</th>\n",
       "      <td>test</td>\n",
       "      <td>SVCGrid</td>\n",
       "      <td>scaled, PCA</td>\n",
       "      <td>0.833939</td>\n",
       "    </tr>\n",
       "    <tr>\n",
       "      <th>8</th>\n",
       "      <td>train</td>\n",
       "      <td>RandomForestClassifierGrid</td>\n",
       "      <td>scaled, PCA</td>\n",
       "      <td>1.000000</td>\n",
       "    </tr>\n",
       "    <tr>\n",
       "      <th>9</th>\n",
       "      <td>test</td>\n",
       "      <td>RandomForestClassifierGrid</td>\n",
       "      <td>scaled, PCA</td>\n",
       "      <td>0.833182</td>\n",
       "    </tr>\n",
       "  </tbody>\n",
       "</table>\n",
       "</div>"
      ],
      "text/plain": [
       "  dataset                       model preprocessing     score\n",
       "0   train      LogisticRegressionGrid   scaled, PCA  0.612612\n",
       "1    test      LogisticRegressionGrid   scaled, PCA  0.609091\n",
       "2   train  DecisionTreeClassifierGrid   scaled, PCA  0.801119\n",
       "3    test  DecisionTreeClassifierGrid   scaled, PCA  0.744091\n",
       "4   train    KNeighborsClassifierGrid   scaled, PCA  0.883358\n",
       "5    test    KNeighborsClassifierGrid   scaled, PCA  0.827576\n",
       "6   train                     SVCGrid   scaled, PCA  0.883582\n",
       "7    test                     SVCGrid   scaled, PCA  0.833939\n",
       "8   train  RandomForestClassifierGrid   scaled, PCA  1.000000\n",
       "9    test  RandomForestClassifierGrid   scaled, PCA  0.833182"
      ]
     },
     "execution_count": 76,
     "metadata": {},
     "output_type": "execute_result"
    }
   ],
   "source": [
    "josh_grid_results_df = pd.DataFrame(josh_grid_results)\n",
    "josh_grid_results_df"
   ]
  },
  {
   "cell_type": "markdown",
   "metadata": {
    "collapsed": true
   },
   "source": [
    "small change"
   ]
  },
  {
   "cell_type": "code",
   "execution_count": null,
   "metadata": {
    "collapsed": true
   },
   "outputs": [],
   "source": []
  }
 ],
 "metadata": {
  "kernelspec": {
   "display_name": "Python 3",
   "language": "python",
   "name": "python3"
  },
  "language_info": {
   "codemirror_mode": {
    "name": "ipython",
    "version": 3
   },
   "file_extension": ".py",
   "mimetype": "text/x-python",
   "name": "python",
   "nbconvert_exporter": "python",
   "pygments_lexer": "ipython3",
   "version": "3.6.2"
  }
 },
 "nbformat": 4,
 "nbformat_minor": 2
}
