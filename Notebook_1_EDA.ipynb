{
 "cells": [
  {
   "cell_type": "markdown",
   "metadata": {},
   "source": [
    "# Notebook 1 - EDA"
   ]
  },
  {
   "cell_type": "code",
   "execution_count": 3,
   "metadata": {
    "collapsed": true
   },
   "outputs": [],
   "source": [
    "%matplotlib inline\n",
    "\n",
    "from sklearn.externals import joblib\n",
    "import pandas as pd\n",
    "import numpy as np\n",
    "import matplotlib.pyplot as plt\n",
    "import seaborn as sns"
   ]
  },
  {
   "cell_type": "code",
   "execution_count": 4,
   "metadata": {
    "collapsed": true
   },
   "outputs": [],
   "source": [
    "uci_madelon = joblib.load(\"./pickles/uci_madelonALL.pkl\")"
   ]
  },
  {
   "cell_type": "code",
   "execution_count": 5,
   "metadata": {
    "collapsed": true
   },
   "outputs": [],
   "source": [
    "j_madelon = joblib.load('./pickles/j_madelon_test.pkl')"
   ]
  },
  {
   "cell_type": "markdown",
   "metadata": {},
   "source": [
    "## UCI"
   ]
  },
  {
   "cell_type": "code",
   "execution_count": 6,
   "metadata": {},
   "outputs": [
    {
     "data": {
      "text/html": [
       "<div>\n",
       "<table border=\"1\" class=\"dataframe\">\n",
       "  <thead>\n",
       "    <tr style=\"text-align: right;\">\n",
       "      <th></th>\n",
       "      <th>0</th>\n",
       "      <th>1</th>\n",
       "      <th>2</th>\n",
       "      <th>3</th>\n",
       "      <th>4</th>\n",
       "      <th>5</th>\n",
       "      <th>6</th>\n",
       "      <th>7</th>\n",
       "      <th>8</th>\n",
       "      <th>9</th>\n",
       "      <th>...</th>\n",
       "      <th>491</th>\n",
       "      <th>492</th>\n",
       "      <th>493</th>\n",
       "      <th>494</th>\n",
       "      <th>495</th>\n",
       "      <th>496</th>\n",
       "      <th>497</th>\n",
       "      <th>498</th>\n",
       "      <th>499</th>\n",
       "      <th>target</th>\n",
       "    </tr>\n",
       "  </thead>\n",
       "  <tbody>\n",
       "    <tr>\n",
       "      <th>0</th>\n",
       "      <td>485</td>\n",
       "      <td>477</td>\n",
       "      <td>537</td>\n",
       "      <td>479</td>\n",
       "      <td>452</td>\n",
       "      <td>471</td>\n",
       "      <td>491</td>\n",
       "      <td>476</td>\n",
       "      <td>475</td>\n",
       "      <td>473</td>\n",
       "      <td>...</td>\n",
       "      <td>481</td>\n",
       "      <td>477</td>\n",
       "      <td>485</td>\n",
       "      <td>511</td>\n",
       "      <td>485</td>\n",
       "      <td>481</td>\n",
       "      <td>479</td>\n",
       "      <td>475</td>\n",
       "      <td>496</td>\n",
       "      <td>-1</td>\n",
       "    </tr>\n",
       "    <tr>\n",
       "      <th>1</th>\n",
       "      <td>483</td>\n",
       "      <td>458</td>\n",
       "      <td>460</td>\n",
       "      <td>487</td>\n",
       "      <td>587</td>\n",
       "      <td>475</td>\n",
       "      <td>526</td>\n",
       "      <td>479</td>\n",
       "      <td>485</td>\n",
       "      <td>469</td>\n",
       "      <td>...</td>\n",
       "      <td>478</td>\n",
       "      <td>487</td>\n",
       "      <td>338</td>\n",
       "      <td>513</td>\n",
       "      <td>486</td>\n",
       "      <td>483</td>\n",
       "      <td>492</td>\n",
       "      <td>510</td>\n",
       "      <td>517</td>\n",
       "      <td>-1</td>\n",
       "    </tr>\n",
       "    <tr>\n",
       "      <th>2</th>\n",
       "      <td>487</td>\n",
       "      <td>542</td>\n",
       "      <td>499</td>\n",
       "      <td>468</td>\n",
       "      <td>448</td>\n",
       "      <td>471</td>\n",
       "      <td>442</td>\n",
       "      <td>478</td>\n",
       "      <td>480</td>\n",
       "      <td>477</td>\n",
       "      <td>...</td>\n",
       "      <td>481</td>\n",
       "      <td>492</td>\n",
       "      <td>650</td>\n",
       "      <td>506</td>\n",
       "      <td>501</td>\n",
       "      <td>480</td>\n",
       "      <td>489</td>\n",
       "      <td>499</td>\n",
       "      <td>498</td>\n",
       "      <td>-1</td>\n",
       "    </tr>\n",
       "    <tr>\n",
       "      <th>3</th>\n",
       "      <td>480</td>\n",
       "      <td>491</td>\n",
       "      <td>510</td>\n",
       "      <td>485</td>\n",
       "      <td>495</td>\n",
       "      <td>472</td>\n",
       "      <td>417</td>\n",
       "      <td>474</td>\n",
       "      <td>502</td>\n",
       "      <td>476</td>\n",
       "      <td>...</td>\n",
       "      <td>480</td>\n",
       "      <td>474</td>\n",
       "      <td>572</td>\n",
       "      <td>454</td>\n",
       "      <td>469</td>\n",
       "      <td>475</td>\n",
       "      <td>482</td>\n",
       "      <td>494</td>\n",
       "      <td>461</td>\n",
       "      <td>1</td>\n",
       "    </tr>\n",
       "    <tr>\n",
       "      <th>4</th>\n",
       "      <td>484</td>\n",
       "      <td>502</td>\n",
       "      <td>528</td>\n",
       "      <td>489</td>\n",
       "      <td>466</td>\n",
       "      <td>481</td>\n",
       "      <td>402</td>\n",
       "      <td>478</td>\n",
       "      <td>487</td>\n",
       "      <td>468</td>\n",
       "      <td>...</td>\n",
       "      <td>479</td>\n",
       "      <td>452</td>\n",
       "      <td>435</td>\n",
       "      <td>486</td>\n",
       "      <td>508</td>\n",
       "      <td>481</td>\n",
       "      <td>504</td>\n",
       "      <td>495</td>\n",
       "      <td>511</td>\n",
       "      <td>1</td>\n",
       "    </tr>\n",
       "  </tbody>\n",
       "</table>\n",
       "<p>5 rows × 501 columns</p>\n",
       "</div>"
      ],
      "text/plain": [
       "     0    1    2    3    4    5    6    7    8    9   ...    491  492  493  \\\n",
       "0  485  477  537  479  452  471  491  476  475  473   ...    481  477  485   \n",
       "1  483  458  460  487  587  475  526  479  485  469   ...    478  487  338   \n",
       "2  487  542  499  468  448  471  442  478  480  477   ...    481  492  650   \n",
       "3  480  491  510  485  495  472  417  474  502  476   ...    480  474  572   \n",
       "4  484  502  528  489  466  481  402  478  487  468   ...    479  452  435   \n",
       "\n",
       "   494  495  496  497  498  499  target  \n",
       "0  511  485  481  479  475  496      -1  \n",
       "1  513  486  483  492  510  517      -1  \n",
       "2  506  501  480  489  499  498      -1  \n",
       "3  454  469  475  482  494  461       1  \n",
       "4  486  508  481  504  495  511       1  \n",
       "\n",
       "[5 rows x 501 columns]"
      ]
     },
     "execution_count": 6,
     "metadata": {},
     "output_type": "execute_result"
    }
   ],
   "source": [
    "uci_madelon.head()"
   ]
  },
  {
   "cell_type": "code",
   "execution_count": 7,
   "metadata": {},
   "outputs": [
    {
     "data": {
      "text/plain": [
       "(2000, 501)"
      ]
     },
     "execution_count": 7,
     "metadata": {},
     "output_type": "execute_result"
    }
   ],
   "source": [
    "uci_madelon.shape"
   ]
  },
  {
   "cell_type": "markdown",
   "metadata": {
    "collapsed": true
   },
   "source": [
    "## Josh's"
   ]
  },
  {
   "cell_type": "code",
   "execution_count": 6,
   "metadata": {},
   "outputs": [
    {
     "data": {
      "text/html": [
       "<div>\n",
       "<table border=\"1\" class=\"dataframe\">\n",
       "  <thead>\n",
       "    <tr style=\"text-align: right;\">\n",
       "      <th></th>\n",
       "      <th>_id</th>\n",
       "      <th>feat_000</th>\n",
       "      <th>feat_001</th>\n",
       "      <th>feat_002</th>\n",
       "      <th>feat_003</th>\n",
       "      <th>feat_004</th>\n",
       "      <th>feat_005</th>\n",
       "      <th>feat_006</th>\n",
       "      <th>feat_007</th>\n",
       "      <th>feat_008</th>\n",
       "      <th>...</th>\n",
       "      <th>feat_991</th>\n",
       "      <th>feat_992</th>\n",
       "      <th>feat_993</th>\n",
       "      <th>feat_994</th>\n",
       "      <th>feat_995</th>\n",
       "      <th>feat_996</th>\n",
       "      <th>feat_997</th>\n",
       "      <th>feat_998</th>\n",
       "      <th>feat_999</th>\n",
       "      <th>target</th>\n",
       "    </tr>\n",
       "  </thead>\n",
       "  <tbody>\n",
       "    <tr>\n",
       "      <th>3527</th>\n",
       "      <td>92462</td>\n",
       "      <td>1.045730</td>\n",
       "      <td>-0.393051</td>\n",
       "      <td>-1.060495</td>\n",
       "      <td>-0.746131</td>\n",
       "      <td>0.144327</td>\n",
       "      <td>0.437297</td>\n",
       "      <td>0.547100</td>\n",
       "      <td>-0.071002</td>\n",
       "      <td>0.203733</td>\n",
       "      <td>...</td>\n",
       "      <td>-0.610445</td>\n",
       "      <td>-1.328360</td>\n",
       "      <td>0.935915</td>\n",
       "      <td>-0.745279</td>\n",
       "      <td>-0.293214</td>\n",
       "      <td>0.917078</td>\n",
       "      <td>-1.730158</td>\n",
       "      <td>0.376441</td>\n",
       "      <td>-1.956205</td>\n",
       "      <td>1</td>\n",
       "    </tr>\n",
       "    <tr>\n",
       "      <th>851</th>\n",
       "      <td>113253</td>\n",
       "      <td>-1.169504</td>\n",
       "      <td>0.388190</td>\n",
       "      <td>-1.393414</td>\n",
       "      <td>0.237846</td>\n",
       "      <td>0.618259</td>\n",
       "      <td>0.501894</td>\n",
       "      <td>-1.277821</td>\n",
       "      <td>1.704995</td>\n",
       "      <td>-0.573793</td>\n",
       "      <td>...</td>\n",
       "      <td>-0.792094</td>\n",
       "      <td>-1.365492</td>\n",
       "      <td>0.565632</td>\n",
       "      <td>0.671481</td>\n",
       "      <td>-0.249191</td>\n",
       "      <td>1.322156</td>\n",
       "      <td>-0.539974</td>\n",
       "      <td>-1.060874</td>\n",
       "      <td>-1.001694</td>\n",
       "      <td>0</td>\n",
       "    </tr>\n",
       "    <tr>\n",
       "      <th>2368</th>\n",
       "      <td>98712</td>\n",
       "      <td>-1.087117</td>\n",
       "      <td>0.234398</td>\n",
       "      <td>-0.205166</td>\n",
       "      <td>-2.824575</td>\n",
       "      <td>1.335523</td>\n",
       "      <td>-1.186759</td>\n",
       "      <td>-0.625478</td>\n",
       "      <td>-0.076769</td>\n",
       "      <td>-0.567801</td>\n",
       "      <td>...</td>\n",
       "      <td>-0.034100</td>\n",
       "      <td>-0.349722</td>\n",
       "      <td>0.587880</td>\n",
       "      <td>-0.807453</td>\n",
       "      <td>0.415176</td>\n",
       "      <td>-0.875847</td>\n",
       "      <td>0.888162</td>\n",
       "      <td>0.900684</td>\n",
       "      <td>1.571435</td>\n",
       "      <td>1</td>\n",
       "    </tr>\n",
       "    <tr>\n",
       "      <th>3590</th>\n",
       "      <td>49255</td>\n",
       "      <td>0.789553</td>\n",
       "      <td>-0.673867</td>\n",
       "      <td>0.115358</td>\n",
       "      <td>-0.654231</td>\n",
       "      <td>-1.077256</td>\n",
       "      <td>1.274941</td>\n",
       "      <td>-0.595050</td>\n",
       "      <td>-0.039585</td>\n",
       "      <td>-0.198331</td>\n",
       "      <td>...</td>\n",
       "      <td>-1.824940</td>\n",
       "      <td>-0.100509</td>\n",
       "      <td>-1.146620</td>\n",
       "      <td>-0.596423</td>\n",
       "      <td>-0.805474</td>\n",
       "      <td>-0.655337</td>\n",
       "      <td>1.656749</td>\n",
       "      <td>0.987302</td>\n",
       "      <td>-0.866606</td>\n",
       "      <td>1</td>\n",
       "    </tr>\n",
       "    <tr>\n",
       "      <th>3412</th>\n",
       "      <td>94784</td>\n",
       "      <td>-0.420093</td>\n",
       "      <td>0.201573</td>\n",
       "      <td>-1.743223</td>\n",
       "      <td>-2.815402</td>\n",
       "      <td>0.606608</td>\n",
       "      <td>0.282942</td>\n",
       "      <td>-0.577935</td>\n",
       "      <td>-0.927724</td>\n",
       "      <td>1.712429</td>\n",
       "      <td>...</td>\n",
       "      <td>-0.323253</td>\n",
       "      <td>-0.528066</td>\n",
       "      <td>1.252311</td>\n",
       "      <td>-0.168354</td>\n",
       "      <td>1.366005</td>\n",
       "      <td>0.304115</td>\n",
       "      <td>0.197605</td>\n",
       "      <td>0.594122</td>\n",
       "      <td>0.457034</td>\n",
       "      <td>0</td>\n",
       "    </tr>\n",
       "  </tbody>\n",
       "</table>\n",
       "<p>5 rows × 1002 columns</p>\n",
       "</div>"
      ],
      "text/plain": [
       "         _id  feat_000  feat_001  feat_002  feat_003  feat_004  feat_005  \\\n",
       "3527   92462  1.045730 -0.393051 -1.060495 -0.746131  0.144327  0.437297   \n",
       "851   113253 -1.169504  0.388190 -1.393414  0.237846  0.618259  0.501894   \n",
       "2368   98712 -1.087117  0.234398 -0.205166 -2.824575  1.335523 -1.186759   \n",
       "3590   49255  0.789553 -0.673867  0.115358 -0.654231 -1.077256  1.274941   \n",
       "3412   94784 -0.420093  0.201573 -1.743223 -2.815402  0.606608  0.282942   \n",
       "\n",
       "      feat_006  feat_007  feat_008   ...    feat_991  feat_992  feat_993  \\\n",
       "3527  0.547100 -0.071002  0.203733   ...   -0.610445 -1.328360  0.935915   \n",
       "851  -1.277821  1.704995 -0.573793   ...   -0.792094 -1.365492  0.565632   \n",
       "2368 -0.625478 -0.076769 -0.567801   ...   -0.034100 -0.349722  0.587880   \n",
       "3590 -0.595050 -0.039585 -0.198331   ...   -1.824940 -0.100509 -1.146620   \n",
       "3412 -0.577935 -0.927724  1.712429   ...   -0.323253 -0.528066  1.252311   \n",
       "\n",
       "      feat_994  feat_995  feat_996  feat_997  feat_998  feat_999  target  \n",
       "3527 -0.745279 -0.293214  0.917078 -1.730158  0.376441 -1.956205       1  \n",
       "851   0.671481 -0.249191  1.322156 -0.539974 -1.060874 -1.001694       0  \n",
       "2368 -0.807453  0.415176 -0.875847  0.888162  0.900684  1.571435       1  \n",
       "3590 -0.596423 -0.805474 -0.655337  1.656749  0.987302 -0.866606       1  \n",
       "3412 -0.168354  1.366005  0.304115  0.197605  0.594122  0.457034       0  \n",
       "\n",
       "[5 rows x 1002 columns]"
      ]
     },
     "execution_count": 6,
     "metadata": {},
     "output_type": "execute_result"
    }
   ],
   "source": [
    "j_madelon.head()"
   ]
  },
  {
   "cell_type": "code",
   "execution_count": 8,
   "metadata": {},
   "outputs": [
    {
     "data": {
      "text/plain": [
       "(2000, 1002)"
      ]
     },
     "execution_count": 8,
     "metadata": {},
     "output_type": "execute_result"
    }
   ],
   "source": [
    "j_madelon.shape"
   ]
  },
  {
   "cell_type": "markdown",
   "metadata": {
    "collapsed": true
   },
   "source": [
    "small change"
   ]
  },
  {
   "cell_type": "code",
   "execution_count": null,
   "metadata": {
    "collapsed": true
   },
   "outputs": [],
   "source": []
  }
 ],
 "metadata": {
  "kernelspec": {
   "display_name": "Python 3",
   "language": "python",
   "name": "python3"
  },
  "language_info": {
   "codemirror_mode": {
    "name": "ipython",
    "version": 3
   },
   "file_extension": ".py",
   "mimetype": "text/x-python",
   "name": "python",
   "nbconvert_exporter": "python",
   "pygments_lexer": "ipython3",
   "version": "3.6.2"
  }
 },
 "nbformat": 4,
 "nbformat_minor": 2
}
